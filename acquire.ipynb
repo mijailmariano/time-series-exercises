{
 "cells": [
  {
   "cell_type": "code",
   "execution_count": 1,
   "metadata": {},
   "outputs": [],
   "source": [
    "# importing notebook dependencies \n",
    "%matplotlib inline\n",
    "import matplotlib as mlp\n",
    "mlp.rcParams['figure.dpi'] = 150\n",
    "\n",
    "# main libraries\n",
    "import pandas as pd\n",
    "import numpy as np\n",
    "\n",
    "\n",
    "# visualization libraries/modules\n",
    "import matplotlib.pyplot as plt\n",
    "plt.style.use('ipynb')\n",
    "import seaborn as sns\n",
    "\n",
    "import requests\n",
    "\n",
    "from tqdm.notebook import tqdm, trange\n",
    "import time # to be used in loop iterations"
   ]
  },
  {
   "cell_type": "markdown",
   "metadata": {},
   "source": [
    "----\n",
    "### **``Time Series: Acquire Exercises``**\n",
    "    start: Tuesday, August 9th 2022"
   ]
  },
  {
   "cell_type": "markdown",
   "metadata": {},
   "source": [
    "**``Exercise Number 1: Using the code from the lesson as a guide and the REST API from https://python.zgulde.net/api/v1/items as we did in the lesson, create a dataframe named items that has all of the data for items.``**"
   ]
  },
  {
   "cell_type": "code",
   "execution_count": 2,
   "metadata": {},
   "outputs": [
    {
     "data": {
      "text/plain": [
       "<Response [200]>"
      ]
     },
     "execution_count": 2,
     "metadata": {},
     "output_type": "execute_result"
    }
   ],
   "source": [
    "response = requests.get('https://python.zgulde.net/api/v1/items')\n",
    "response # status code 200, checks out!"
   ]
  },
  {
   "cell_type": "code",
   "execution_count": 3,
   "metadata": {},
   "outputs": [
    {
     "data": {
      "text/plain": [
       "requests.models.Response"
      ]
     },
     "execution_count": 3,
     "metadata": {},
     "output_type": "execute_result"
    }
   ],
   "source": [
    "# let's check the 'response' object type\n",
    "\n",
    "type(response)"
   ]
  },
  {
   "cell_type": "code",
   "execution_count": 4,
   "metadata": {},
   "outputs": [
    {
     "name": "stdout",
     "output_type": "stream",
     "text": [
      "{\"payload\":{\"items\":[{\"item_brand\":\"Riceland\",\"item_id\":1,\"item_name\":\"Riceland American Jazmine Rice\",\"item_price\":0.84,\"item_upc12\":\"35200264013\",\"item_upc14\":\"35200264013\"},{\"item_brand\":\"Caress\",\"item_id\":2,\"item_name\":\"Caress Velvet Bliss Ultra Silkening Beauty Bar - 6 Ct\",\"item_price\":6.44,\"item_upc12\":\"11111065925\",\"item_upc14\":\"11111065925\"},{\"item_brand\":\"Earths Best\",\"item_id\":3,\"item_name\":\"Earths Best Organic Fruit Yogurt Smoothie Mixed Berry\",\"item_price\":2.43,\"item_upc12\":\"23923330139\",\"item_upc14\":\"23923330139\"},{\"item_brand\":\"Boars Head\",\"item_id\":4,\"item_name\":\"Boars Head Sliced White American Cheese - 120 Ct\",\"item_price\":3.14,\"item_upc12\":\"208528800007\",\"item_upc14\":\"208528800007\"},{\"item_brand\":\"Back To Nature\",\"item_id\":5,\"item_name\":\"Back To Nature Gluten Free White Cheddar Rice Thin Crackers\",\"item_price\":2.61,\"item_upc12\":\"759283100036\",\"item_upc14\":\"759283100036\"},{\"item_brand\":\"Sally Hansen\",\"item_id\":6,\"item_name\":\"Sally Hansen Nail Color Magnetic 903 Silver Elements\",\"item_price\":6.93,\"item_upc12\":\"74170388732\",\"item_upc14\":\"74170388732\"},{\"item_brand\":\"Twinings Of London\",\"item_id\":7,\"item_name\":\"Twinings Of London Classics Lady Grey Tea - 20 Ct\",\"item_price\":9.64,\"item_upc12\":\"70177154004\",\"item_upc14\":\"70177154004\"},{\"item_brand\":\"Lea & Perrins\",\"item_id\":8,\"item_name\":\"Lea & Perrins Marinade In-a-bag Cracked Peppercorn\",\"item_price\":1.68,\"item_upc12\":\"51600080015\",\"item_upc14\":\"51600080015\"},{\"item_brand\":\"Van De Kamps\",\"item_id\":9,\"item_name\":\"Van De Kamps Fillets Beer Battered - 10 Ct\",\"item_price\":1.79,\"item_upc12\":\"19600923015\",\"item_upc14\":\"19600923015\"},{\"item_brand\":\"Ahold\",\"item_id\":10,\"item_name\":\"Ahold Cocoa Almonds\",\"item_price\":3.17,\"item_upc12\":\"688267141676\",\"item_upc14\":\"688267141676\"},{\"item_brand\":\"Honest Tea\",\"item_id\":11,\"item_name\":\"Honest Tea Peach White Tea\",\"item_price\":3.93,\"item_upc12\":\"657622604842\",\"item_upc14\":\"657622604842\"},{\"item_brand\":\"Mueller\",\"item_id\":12,\"item_name\":\"Mueller Sport Care Basic Support Level Medium Elastic Knee Support\",\"item_price\":8.4,\"item_upc12\":\"74676640211\",\"item_upc14\":\"74676640211\"},{\"item_brand\":\"Garnier Nutritioniste\",\"item_id\":13,\"item_name\":\"Garnier Nutritioniste Moisture Rescue Fresh Cleansing Foam\",\"item_price\":6.47,\"item_upc12\":\"603084234561\",\"item_upc14\":\"603084234561\"},{\"item_brand\":\"Pamprin\",\"item_id\":14,\"item_name\":\"Pamprin Maximum Strength Multi-symptom Menstrual Pain Relief\",\"item_price\":7.54,\"item_upc12\":\"41167300121\",\"item_upc14\":\"41167300121\"},{\"item_brand\":\"Suave\",\"item_id\":15,\"item_name\":\"Suave Naturals Moisturizing Body Wash Creamy Tropical Coconut\",\"item_price\":9.11,\"item_upc12\":\"79400847201\",\"item_upc14\":\"79400847201\"},{\"item_brand\":\"Burts Bees\",\"item_id\":16,\"item_name\":\"Burts Bees Daily Moisturizing Cream Sensitive\",\"item_price\":5.17,\"item_upc12\":\"792850014008\",\"item_upc14\":\"792850014008\"},{\"item_brand\":\"Ducal\",\"item_id\":17,\"item_name\":\"Ducal Refried Red Beans\",\"item_price\":1.16,\"item_upc12\":\"88313590791\",\"item_upc14\":\"88313590791\"},{\"item_brand\":\"Scotch\",\"item_id\":18,\"item_name\":\"Scotch Removable Clear Mounting Squares - 35 Ct\",\"item_price\":4.39,\"item_upc12\":\"21200725340\",\"item_upc14\":\"21200725340\"},{\"item_brand\":\"Careone\",\"item_id\":19,\"item_name\":\"Careone Family Comb Set - 8 Ct\",\"item_price\":0.74,\"item_upc12\":\"41520035646\",\"item_upc14\":\"41520035646\"},{\"item_brand\":\"Usda Produce\",\"item_id\":20,\"item_name\":\"Plums Black\",\"item_price\":5.62,\"item_upc12\":\"204040000000\",\"item_upc14\":\"204040000000\"}],\"max_page\":3,\"next_page\":\"/api/v1/items?page=2\",\"page\":1,\"previous_page\":null},\"status\":\"ok\"}\n",
      "\n"
     ]
    }
   ],
   "source": [
    "# seeing what's contained in the response object\n",
    "\n",
    "print(response.text)"
   ]
  },
  {
   "cell_type": "code",
   "execution_count": 5,
   "metadata": {},
   "outputs": [
    {
     "data": {
      "text/plain": [
       "dict"
      ]
     },
     "execution_count": 5,
     "metadata": {},
     "output_type": "execute_result"
    }
   ],
   "source": [
    "# can i convert the 'response' object to a json type file/variable\n",
    "\n",
    "data = response.json()\n",
    "type(data) # seems like it converted the original 'request.model.Response' type to a dictionary"
   ]
  },
  {
   "cell_type": "code",
   "execution_count": 6,
   "metadata": {},
   "outputs": [
    {
     "data": {
      "text/plain": [
       "{'payload': {'items': [{'item_brand': 'Riceland',\n",
       "    'item_id': 1,\n",
       "    'item_name': 'Riceland American Jazmine Rice',\n",
       "    'item_price': 0.84,\n",
       "    'item_upc12': '35200264013',\n",
       "    'item_upc14': '35200264013'},\n",
       "   {'item_brand': 'Caress',\n",
       "    'item_id': 2,\n",
       "    'item_name': 'Caress Velvet Bliss Ultra Silkening Beauty Bar - 6 Ct',\n",
       "    'item_price': 6.44,\n",
       "    'item_upc12': '11111065925',\n",
       "    'item_upc14': '11111065925'},\n",
       "   {'item_brand': 'Earths Best',\n",
       "    'item_id': 3,\n",
       "    'item_name': 'Earths Best Organic Fruit Yogurt Smoothie Mixed Berry',\n",
       "    'item_price': 2.43,\n",
       "    'item_upc12': '23923330139',\n",
       "    'item_upc14': '23923330139'},\n",
       "   {'item_brand': 'Boars Head',\n",
       "    'item_id': 4,\n",
       "    'item_name': 'Boars Head Sliced White American Cheese - 120 Ct',\n",
       "    'item_price': 3.14,\n",
       "    'item_upc12': '208528800007',\n",
       "    'item_upc14': '208528800007'},\n",
       "   {'item_brand': 'Back To Nature',\n",
       "    'item_id': 5,\n",
       "    'item_name': 'Back To Nature Gluten Free White Cheddar Rice Thin Crackers',\n",
       "    'item_price': 2.61,\n",
       "    'item_upc12': '759283100036',\n",
       "    'item_upc14': '759283100036'},\n",
       "   {'item_brand': 'Sally Hansen',\n",
       "    'item_id': 6,\n",
       "    'item_name': 'Sally Hansen Nail Color Magnetic 903 Silver Elements',\n",
       "    'item_price': 6.93,\n",
       "    'item_upc12': '74170388732',\n",
       "    'item_upc14': '74170388732'},\n",
       "   {'item_brand': 'Twinings Of London',\n",
       "    'item_id': 7,\n",
       "    'item_name': 'Twinings Of London Classics Lady Grey Tea - 20 Ct',\n",
       "    'item_price': 9.64,\n",
       "    'item_upc12': '70177154004',\n",
       "    'item_upc14': '70177154004'},\n",
       "   {'item_brand': 'Lea & Perrins',\n",
       "    'item_id': 8,\n",
       "    'item_name': 'Lea & Perrins Marinade In-a-bag Cracked Peppercorn',\n",
       "    'item_price': 1.68,\n",
       "    'item_upc12': '51600080015',\n",
       "    'item_upc14': '51600080015'},\n",
       "   {'item_brand': 'Van De Kamps',\n",
       "    'item_id': 9,\n",
       "    'item_name': 'Van De Kamps Fillets Beer Battered - 10 Ct',\n",
       "    'item_price': 1.79,\n",
       "    'item_upc12': '19600923015',\n",
       "    'item_upc14': '19600923015'},\n",
       "   {'item_brand': 'Ahold',\n",
       "    'item_id': 10,\n",
       "    'item_name': 'Ahold Cocoa Almonds',\n",
       "    'item_price': 3.17,\n",
       "    'item_upc12': '688267141676',\n",
       "    'item_upc14': '688267141676'},\n",
       "   {'item_brand': 'Honest Tea',\n",
       "    'item_id': 11,\n",
       "    'item_name': 'Honest Tea Peach White Tea',\n",
       "    'item_price': 3.93,\n",
       "    'item_upc12': '657622604842',\n",
       "    'item_upc14': '657622604842'},\n",
       "   {'item_brand': 'Mueller',\n",
       "    'item_id': 12,\n",
       "    'item_name': 'Mueller Sport Care Basic Support Level Medium Elastic Knee Support',\n",
       "    'item_price': 8.4,\n",
       "    'item_upc12': '74676640211',\n",
       "    'item_upc14': '74676640211'},\n",
       "   {'item_brand': 'Garnier Nutritioniste',\n",
       "    'item_id': 13,\n",
       "    'item_name': 'Garnier Nutritioniste Moisture Rescue Fresh Cleansing Foam',\n",
       "    'item_price': 6.47,\n",
       "    'item_upc12': '603084234561',\n",
       "    'item_upc14': '603084234561'},\n",
       "   {'item_brand': 'Pamprin',\n",
       "    'item_id': 14,\n",
       "    'item_name': 'Pamprin Maximum Strength Multi-symptom Menstrual Pain Relief',\n",
       "    'item_price': 7.54,\n",
       "    'item_upc12': '41167300121',\n",
       "    'item_upc14': '41167300121'},\n",
       "   {'item_brand': 'Suave',\n",
       "    'item_id': 15,\n",
       "    'item_name': 'Suave Naturals Moisturizing Body Wash Creamy Tropical Coconut',\n",
       "    'item_price': 9.11,\n",
       "    'item_upc12': '79400847201',\n",
       "    'item_upc14': '79400847201'},\n",
       "   {'item_brand': 'Burts Bees',\n",
       "    'item_id': 16,\n",
       "    'item_name': 'Burts Bees Daily Moisturizing Cream Sensitive',\n",
       "    'item_price': 5.17,\n",
       "    'item_upc12': '792850014008',\n",
       "    'item_upc14': '792850014008'},\n",
       "   {'item_brand': 'Ducal',\n",
       "    'item_id': 17,\n",
       "    'item_name': 'Ducal Refried Red Beans',\n",
       "    'item_price': 1.16,\n",
       "    'item_upc12': '88313590791',\n",
       "    'item_upc14': '88313590791'},\n",
       "   {'item_brand': 'Scotch',\n",
       "    'item_id': 18,\n",
       "    'item_name': 'Scotch Removable Clear Mounting Squares - 35 Ct',\n",
       "    'item_price': 4.39,\n",
       "    'item_upc12': '21200725340',\n",
       "    'item_upc14': '21200725340'},\n",
       "   {'item_brand': 'Careone',\n",
       "    'item_id': 19,\n",
       "    'item_name': 'Careone Family Comb Set - 8 Ct',\n",
       "    'item_price': 0.74,\n",
       "    'item_upc12': '41520035646',\n",
       "    'item_upc14': '41520035646'},\n",
       "   {'item_brand': 'Usda Produce',\n",
       "    'item_id': 20,\n",
       "    'item_name': 'Plums Black',\n",
       "    'item_price': 5.62,\n",
       "    'item_upc12': '204040000000',\n",
       "    'item_upc14': '204040000000'}],\n",
       "  'max_page': 3,\n",
       "  'next_page': '/api/v1/items?page=2',\n",
       "  'page': 1,\n",
       "  'previous_page': None},\n",
       " 'status': 'ok'}"
      ]
     },
     "execution_count": 6,
     "metadata": {},
     "output_type": "execute_result"
    }
   ],
   "source": [
    "# let's now see what's in the data object\n",
    "\n",
    "data # a more cleaner and manageable data object"
   ]
  },
  {
   "cell_type": "code",
   "execution_count": 7,
   "metadata": {},
   "outputs": [
    {
     "data": {
      "text/plain": [
       "dict_keys(['payload', 'status'])"
      ]
     },
     "execution_count": 7,
     "metadata": {},
     "output_type": "execute_result"
    }
   ],
   "source": [
    "# returning the first-level keys in the data dictionary\n",
    "\n",
    "data.keys() # returns back 'payload', and 'status' -- exploring both"
   ]
  },
  {
   "cell_type": "code",
   "execution_count": 8,
   "metadata": {},
   "outputs": [
    {
     "data": {
      "text/plain": [
       "{'items': [{'item_brand': 'Riceland',\n",
       "   'item_id': 1,\n",
       "   'item_name': 'Riceland American Jazmine Rice',\n",
       "   'item_price': 0.84,\n",
       "   'item_upc12': '35200264013',\n",
       "   'item_upc14': '35200264013'},\n",
       "  {'item_brand': 'Caress',\n",
       "   'item_id': 2,\n",
       "   'item_name': 'Caress Velvet Bliss Ultra Silkening Beauty Bar - 6 Ct',\n",
       "   'item_price': 6.44,\n",
       "   'item_upc12': '11111065925',\n",
       "   'item_upc14': '11111065925'},\n",
       "  {'item_brand': 'Earths Best',\n",
       "   'item_id': 3,\n",
       "   'item_name': 'Earths Best Organic Fruit Yogurt Smoothie Mixed Berry',\n",
       "   'item_price': 2.43,\n",
       "   'item_upc12': '23923330139',\n",
       "   'item_upc14': '23923330139'},\n",
       "  {'item_brand': 'Boars Head',\n",
       "   'item_id': 4,\n",
       "   'item_name': 'Boars Head Sliced White American Cheese - 120 Ct',\n",
       "   'item_price': 3.14,\n",
       "   'item_upc12': '208528800007',\n",
       "   'item_upc14': '208528800007'},\n",
       "  {'item_brand': 'Back To Nature',\n",
       "   'item_id': 5,\n",
       "   'item_name': 'Back To Nature Gluten Free White Cheddar Rice Thin Crackers',\n",
       "   'item_price': 2.61,\n",
       "   'item_upc12': '759283100036',\n",
       "   'item_upc14': '759283100036'},\n",
       "  {'item_brand': 'Sally Hansen',\n",
       "   'item_id': 6,\n",
       "   'item_name': 'Sally Hansen Nail Color Magnetic 903 Silver Elements',\n",
       "   'item_price': 6.93,\n",
       "   'item_upc12': '74170388732',\n",
       "   'item_upc14': '74170388732'},\n",
       "  {'item_brand': 'Twinings Of London',\n",
       "   'item_id': 7,\n",
       "   'item_name': 'Twinings Of London Classics Lady Grey Tea - 20 Ct',\n",
       "   'item_price': 9.64,\n",
       "   'item_upc12': '70177154004',\n",
       "   'item_upc14': '70177154004'},\n",
       "  {'item_brand': 'Lea & Perrins',\n",
       "   'item_id': 8,\n",
       "   'item_name': 'Lea & Perrins Marinade In-a-bag Cracked Peppercorn',\n",
       "   'item_price': 1.68,\n",
       "   'item_upc12': '51600080015',\n",
       "   'item_upc14': '51600080015'},\n",
       "  {'item_brand': 'Van De Kamps',\n",
       "   'item_id': 9,\n",
       "   'item_name': 'Van De Kamps Fillets Beer Battered - 10 Ct',\n",
       "   'item_price': 1.79,\n",
       "   'item_upc12': '19600923015',\n",
       "   'item_upc14': '19600923015'},\n",
       "  {'item_brand': 'Ahold',\n",
       "   'item_id': 10,\n",
       "   'item_name': 'Ahold Cocoa Almonds',\n",
       "   'item_price': 3.17,\n",
       "   'item_upc12': '688267141676',\n",
       "   'item_upc14': '688267141676'},\n",
       "  {'item_brand': 'Honest Tea',\n",
       "   'item_id': 11,\n",
       "   'item_name': 'Honest Tea Peach White Tea',\n",
       "   'item_price': 3.93,\n",
       "   'item_upc12': '657622604842',\n",
       "   'item_upc14': '657622604842'},\n",
       "  {'item_brand': 'Mueller',\n",
       "   'item_id': 12,\n",
       "   'item_name': 'Mueller Sport Care Basic Support Level Medium Elastic Knee Support',\n",
       "   'item_price': 8.4,\n",
       "   'item_upc12': '74676640211',\n",
       "   'item_upc14': '74676640211'},\n",
       "  {'item_brand': 'Garnier Nutritioniste',\n",
       "   'item_id': 13,\n",
       "   'item_name': 'Garnier Nutritioniste Moisture Rescue Fresh Cleansing Foam',\n",
       "   'item_price': 6.47,\n",
       "   'item_upc12': '603084234561',\n",
       "   'item_upc14': '603084234561'},\n",
       "  {'item_brand': 'Pamprin',\n",
       "   'item_id': 14,\n",
       "   'item_name': 'Pamprin Maximum Strength Multi-symptom Menstrual Pain Relief',\n",
       "   'item_price': 7.54,\n",
       "   'item_upc12': '41167300121',\n",
       "   'item_upc14': '41167300121'},\n",
       "  {'item_brand': 'Suave',\n",
       "   'item_id': 15,\n",
       "   'item_name': 'Suave Naturals Moisturizing Body Wash Creamy Tropical Coconut',\n",
       "   'item_price': 9.11,\n",
       "   'item_upc12': '79400847201',\n",
       "   'item_upc14': '79400847201'},\n",
       "  {'item_brand': 'Burts Bees',\n",
       "   'item_id': 16,\n",
       "   'item_name': 'Burts Bees Daily Moisturizing Cream Sensitive',\n",
       "   'item_price': 5.17,\n",
       "   'item_upc12': '792850014008',\n",
       "   'item_upc14': '792850014008'},\n",
       "  {'item_brand': 'Ducal',\n",
       "   'item_id': 17,\n",
       "   'item_name': 'Ducal Refried Red Beans',\n",
       "   'item_price': 1.16,\n",
       "   'item_upc12': '88313590791',\n",
       "   'item_upc14': '88313590791'},\n",
       "  {'item_brand': 'Scotch',\n",
       "   'item_id': 18,\n",
       "   'item_name': 'Scotch Removable Clear Mounting Squares - 35 Ct',\n",
       "   'item_price': 4.39,\n",
       "   'item_upc12': '21200725340',\n",
       "   'item_upc14': '21200725340'},\n",
       "  {'item_brand': 'Careone',\n",
       "   'item_id': 19,\n",
       "   'item_name': 'Careone Family Comb Set - 8 Ct',\n",
       "   'item_price': 0.74,\n",
       "   'item_upc12': '41520035646',\n",
       "   'item_upc14': '41520035646'},\n",
       "  {'item_brand': 'Usda Produce',\n",
       "   'item_id': 20,\n",
       "   'item_name': 'Plums Black',\n",
       "   'item_price': 5.62,\n",
       "   'item_upc12': '204040000000',\n",
       "   'item_upc14': '204040000000'}],\n",
       " 'max_page': 3,\n",
       " 'next_page': '/api/v1/items?page=2',\n",
       " 'page': 1,\n",
       " 'previous_page': None}"
      ]
     },
     "execution_count": 8,
     "metadata": {},
     "output_type": "execute_result"
    }
   ],
   "source": [
    "# first, payload\n",
    "\n",
    "data['payload'] # returns back several unique dictionary keys and values"
   ]
  },
  {
   "cell_type": "code",
   "execution_count": 9,
   "metadata": {},
   "outputs": [
    {
     "data": {
      "text/plain": [
       "dict_keys(['items', 'max_page', 'next_page', 'page', 'previous_page'])"
      ]
     },
     "execution_count": 9,
     "metadata": {},
     "output_type": "execute_result"
    }
   ],
   "source": [
    "# let's look into keys within 'payload'\n",
    "\n",
    "data['payload'].keys()"
   ]
  },
  {
   "cell_type": "code",
   "execution_count": 10,
   "metadata": {},
   "outputs": [
    {
     "data": {
      "text/plain": [
       "[{'item_brand': 'Riceland',\n",
       "  'item_id': 1,\n",
       "  'item_name': 'Riceland American Jazmine Rice',\n",
       "  'item_price': 0.84,\n",
       "  'item_upc12': '35200264013',\n",
       "  'item_upc14': '35200264013'},\n",
       " {'item_brand': 'Caress',\n",
       "  'item_id': 2,\n",
       "  'item_name': 'Caress Velvet Bliss Ultra Silkening Beauty Bar - 6 Ct',\n",
       "  'item_price': 6.44,\n",
       "  'item_upc12': '11111065925',\n",
       "  'item_upc14': '11111065925'},\n",
       " {'item_brand': 'Earths Best',\n",
       "  'item_id': 3,\n",
       "  'item_name': 'Earths Best Organic Fruit Yogurt Smoothie Mixed Berry',\n",
       "  'item_price': 2.43,\n",
       "  'item_upc12': '23923330139',\n",
       "  'item_upc14': '23923330139'},\n",
       " {'item_brand': 'Boars Head',\n",
       "  'item_id': 4,\n",
       "  'item_name': 'Boars Head Sliced White American Cheese - 120 Ct',\n",
       "  'item_price': 3.14,\n",
       "  'item_upc12': '208528800007',\n",
       "  'item_upc14': '208528800007'},\n",
       " {'item_brand': 'Back To Nature',\n",
       "  'item_id': 5,\n",
       "  'item_name': 'Back To Nature Gluten Free White Cheddar Rice Thin Crackers',\n",
       "  'item_price': 2.61,\n",
       "  'item_upc12': '759283100036',\n",
       "  'item_upc14': '759283100036'},\n",
       " {'item_brand': 'Sally Hansen',\n",
       "  'item_id': 6,\n",
       "  'item_name': 'Sally Hansen Nail Color Magnetic 903 Silver Elements',\n",
       "  'item_price': 6.93,\n",
       "  'item_upc12': '74170388732',\n",
       "  'item_upc14': '74170388732'},\n",
       " {'item_brand': 'Twinings Of London',\n",
       "  'item_id': 7,\n",
       "  'item_name': 'Twinings Of London Classics Lady Grey Tea - 20 Ct',\n",
       "  'item_price': 9.64,\n",
       "  'item_upc12': '70177154004',\n",
       "  'item_upc14': '70177154004'},\n",
       " {'item_brand': 'Lea & Perrins',\n",
       "  'item_id': 8,\n",
       "  'item_name': 'Lea & Perrins Marinade In-a-bag Cracked Peppercorn',\n",
       "  'item_price': 1.68,\n",
       "  'item_upc12': '51600080015',\n",
       "  'item_upc14': '51600080015'},\n",
       " {'item_brand': 'Van De Kamps',\n",
       "  'item_id': 9,\n",
       "  'item_name': 'Van De Kamps Fillets Beer Battered - 10 Ct',\n",
       "  'item_price': 1.79,\n",
       "  'item_upc12': '19600923015',\n",
       "  'item_upc14': '19600923015'},\n",
       " {'item_brand': 'Ahold',\n",
       "  'item_id': 10,\n",
       "  'item_name': 'Ahold Cocoa Almonds',\n",
       "  'item_price': 3.17,\n",
       "  'item_upc12': '688267141676',\n",
       "  'item_upc14': '688267141676'},\n",
       " {'item_brand': 'Honest Tea',\n",
       "  'item_id': 11,\n",
       "  'item_name': 'Honest Tea Peach White Tea',\n",
       "  'item_price': 3.93,\n",
       "  'item_upc12': '657622604842',\n",
       "  'item_upc14': '657622604842'},\n",
       " {'item_brand': 'Mueller',\n",
       "  'item_id': 12,\n",
       "  'item_name': 'Mueller Sport Care Basic Support Level Medium Elastic Knee Support',\n",
       "  'item_price': 8.4,\n",
       "  'item_upc12': '74676640211',\n",
       "  'item_upc14': '74676640211'},\n",
       " {'item_brand': 'Garnier Nutritioniste',\n",
       "  'item_id': 13,\n",
       "  'item_name': 'Garnier Nutritioniste Moisture Rescue Fresh Cleansing Foam',\n",
       "  'item_price': 6.47,\n",
       "  'item_upc12': '603084234561',\n",
       "  'item_upc14': '603084234561'},\n",
       " {'item_brand': 'Pamprin',\n",
       "  'item_id': 14,\n",
       "  'item_name': 'Pamprin Maximum Strength Multi-symptom Menstrual Pain Relief',\n",
       "  'item_price': 7.54,\n",
       "  'item_upc12': '41167300121',\n",
       "  'item_upc14': '41167300121'},\n",
       " {'item_brand': 'Suave',\n",
       "  'item_id': 15,\n",
       "  'item_name': 'Suave Naturals Moisturizing Body Wash Creamy Tropical Coconut',\n",
       "  'item_price': 9.11,\n",
       "  'item_upc12': '79400847201',\n",
       "  'item_upc14': '79400847201'},\n",
       " {'item_brand': 'Burts Bees',\n",
       "  'item_id': 16,\n",
       "  'item_name': 'Burts Bees Daily Moisturizing Cream Sensitive',\n",
       "  'item_price': 5.17,\n",
       "  'item_upc12': '792850014008',\n",
       "  'item_upc14': '792850014008'},\n",
       " {'item_brand': 'Ducal',\n",
       "  'item_id': 17,\n",
       "  'item_name': 'Ducal Refried Red Beans',\n",
       "  'item_price': 1.16,\n",
       "  'item_upc12': '88313590791',\n",
       "  'item_upc14': '88313590791'},\n",
       " {'item_brand': 'Scotch',\n",
       "  'item_id': 18,\n",
       "  'item_name': 'Scotch Removable Clear Mounting Squares - 35 Ct',\n",
       "  'item_price': 4.39,\n",
       "  'item_upc12': '21200725340',\n",
       "  'item_upc14': '21200725340'},\n",
       " {'item_brand': 'Careone',\n",
       "  'item_id': 19,\n",
       "  'item_name': 'Careone Family Comb Set - 8 Ct',\n",
       "  'item_price': 0.74,\n",
       "  'item_upc12': '41520035646',\n",
       "  'item_upc14': '41520035646'},\n",
       " {'item_brand': 'Usda Produce',\n",
       "  'item_id': 20,\n",
       "  'item_name': 'Plums Black',\n",
       "  'item_price': 5.62,\n",
       "  'item_upc12': '204040000000',\n",
       "  'item_upc14': '204040000000'}]"
      ]
     },
     "execution_count": 10,
     "metadata": {},
     "output_type": "execute_result"
    }
   ],
   "source": [
    "# looking into 'items' within 'payload'\n",
    "\n",
    "data['payload']['items'] # looks like more information"
   ]
  },
  {
   "cell_type": "code",
   "execution_count": 11,
   "metadata": {},
   "outputs": [
    {
     "data": {
      "text/plain": [
       "{'item_brand': 'Caress',\n",
       " 'item_id': 2,\n",
       " 'item_name': 'Caress Velvet Bliss Ultra Silkening Beauty Bar - 6 Ct',\n",
       " 'item_price': 6.44,\n",
       " 'item_upc12': '11111065925',\n",
       " 'item_upc14': '11111065925'}"
      ]
     },
     "execution_count": 11,
     "metadata": {},
     "output_type": "execute_result"
    }
   ],
   "source": [
    "# are there keys within items?\n",
    "\n",
    "data['payload']['items'][1]"
   ]
  },
  {
   "cell_type": "code",
   "execution_count": 12,
   "metadata": {},
   "outputs": [
    {
     "data": {
      "text/plain": [
       "'ok'"
      ]
     },
     "execution_count": 12,
     "metadata": {},
     "output_type": "execute_result"
    }
   ],
   "source": [
    "# second, status\n",
    "\n",
    "data['status'] # not much, just 'ok'"
   ]
  },
  {
   "cell_type": "code",
   "execution_count": 13,
   "metadata": {},
   "outputs": [
    {
     "data": {
      "text/plain": [
       "dict_keys(['items', 'max_page', 'next_page', 'page', 'previous_page'])"
      ]
     },
     "execution_count": 13,
     "metadata": {},
     "output_type": "execute_result"
    }
   ],
   "source": [
    "# what is the length/size of payload?\n",
    "\n",
    "data['payload'].keys()"
   ]
  },
  {
   "cell_type": "code",
   "execution_count": 14,
   "metadata": {},
   "outputs": [
    {
     "data": {
      "text/plain": [
       "3"
      ]
     },
     "execution_count": 14,
     "metadata": {},
     "output_type": "execute_result"
    }
   ],
   "source": [
    "# what is the length/size of payload cont.?\n",
    "\n",
    "data['payload']['max_page'] # 3 total pages"
   ]
  },
  {
   "cell_type": "code",
   "execution_count": 15,
   "metadata": {},
   "outputs": [
    {
     "data": {
      "text/plain": [
       "(3, '/api/v1/items?page=2', 1, None)"
      ]
     },
     "execution_count": 15,
     "metadata": {},
     "output_type": "execute_result"
    }
   ],
   "source": [
    "# creating a payload dataframe for API descriptive stats\n",
    "(\n",
    "data['payload']['max_page'],\n",
    "data['payload']['next_page'],\n",
    "data['payload']['page'],\n",
    "data['payload']['previous_page'],\n",
    ")"
   ]
  },
  {
   "cell_type": "code",
   "execution_count": 16,
   "metadata": {},
   "outputs": [
    {
     "data": {
      "text/plain": [
       "(20, 6)"
      ]
     },
     "execution_count": 16,
     "metadata": {},
     "output_type": "execute_result"
    }
   ],
   "source": [
    "# let's create an items dataframe\n",
    "\n",
    "items = pd.DataFrame(data['payload']['items'])\n",
    "items.shape # where there are 20 records/rows and 6 features/columns in the 'items' page"
   ]
  },
  {
   "cell_type": "code",
   "execution_count": 17,
   "metadata": {},
   "outputs": [
    {
     "data": {
      "text/html": [
       "<div>\n",
       "<style scoped>\n",
       "    .dataframe tbody tr th:only-of-type {\n",
       "        vertical-align: middle;\n",
       "    }\n",
       "\n",
       "    .dataframe tbody tr th {\n",
       "        vertical-align: top;\n",
       "    }\n",
       "\n",
       "    .dataframe thead th {\n",
       "        text-align: right;\n",
       "    }\n",
       "</style>\n",
       "<table border=\"1\" class=\"dataframe\">\n",
       "  <thead>\n",
       "    <tr style=\"text-align: right;\">\n",
       "      <th></th>\n",
       "      <th>item_brand</th>\n",
       "      <th>item_id</th>\n",
       "      <th>item_name</th>\n",
       "      <th>item_price</th>\n",
       "      <th>item_upc12</th>\n",
       "      <th>item_upc14</th>\n",
       "    </tr>\n",
       "  </thead>\n",
       "  <tbody>\n",
       "    <tr>\n",
       "      <th>0</th>\n",
       "      <td>Riceland</td>\n",
       "      <td>1</td>\n",
       "      <td>Riceland American Jazmine Rice</td>\n",
       "      <td>0.84</td>\n",
       "      <td>35200264013</td>\n",
       "      <td>35200264013</td>\n",
       "    </tr>\n",
       "    <tr>\n",
       "      <th>1</th>\n",
       "      <td>Caress</td>\n",
       "      <td>2</td>\n",
       "      <td>Caress Velvet Bliss Ultra Silkening Beauty Bar...</td>\n",
       "      <td>6.44</td>\n",
       "      <td>11111065925</td>\n",
       "      <td>11111065925</td>\n",
       "    </tr>\n",
       "    <tr>\n",
       "      <th>2</th>\n",
       "      <td>Earths Best</td>\n",
       "      <td>3</td>\n",
       "      <td>Earths Best Organic Fruit Yogurt Smoothie Mixe...</td>\n",
       "      <td>2.43</td>\n",
       "      <td>23923330139</td>\n",
       "      <td>23923330139</td>\n",
       "    </tr>\n",
       "    <tr>\n",
       "      <th>3</th>\n",
       "      <td>Boars Head</td>\n",
       "      <td>4</td>\n",
       "      <td>Boars Head Sliced White American Cheese - 120 Ct</td>\n",
       "      <td>3.14</td>\n",
       "      <td>208528800007</td>\n",
       "      <td>208528800007</td>\n",
       "    </tr>\n",
       "    <tr>\n",
       "      <th>4</th>\n",
       "      <td>Back To Nature</td>\n",
       "      <td>5</td>\n",
       "      <td>Back To Nature Gluten Free White Cheddar Rice ...</td>\n",
       "      <td>2.61</td>\n",
       "      <td>759283100036</td>\n",
       "      <td>759283100036</td>\n",
       "    </tr>\n",
       "  </tbody>\n",
       "</table>\n",
       "</div>"
      ],
      "text/plain": [
       "       item_brand  item_id                                          item_name  \\\n",
       "0        Riceland        1                     Riceland American Jazmine Rice   \n",
       "1          Caress        2  Caress Velvet Bliss Ultra Silkening Beauty Bar...   \n",
       "2     Earths Best        3  Earths Best Organic Fruit Yogurt Smoothie Mixe...   \n",
       "3      Boars Head        4   Boars Head Sliced White American Cheese - 120 Ct   \n",
       "4  Back To Nature        5  Back To Nature Gluten Free White Cheddar Rice ...   \n",
       "\n",
       "   item_price    item_upc12    item_upc14  \n",
       "0        0.84   35200264013   35200264013  \n",
       "1        6.44   11111065925   11111065925  \n",
       "2        2.43   23923330139   23923330139  \n",
       "3        3.14  208528800007  208528800007  \n",
       "4        2.61  759283100036  759283100036  "
      ]
     },
     "execution_count": 17,
     "metadata": {},
     "output_type": "execute_result"
    }
   ],
   "source": [
    "# previewing the dataframe\n",
    "\n",
    "items.head()"
   ]
  },
  {
   "cell_type": "markdown",
   "metadata": {},
   "source": [
    "----\n",
    "**Creating a loop to conduct the following:**\n",
    "\n",
    "1. assign the API address to a url/request object\n",
    "2. convert the url to a json() file \n",
    "3. from the json file, get the 'payload' key and secondly, 'items' key\n",
    "4. convert/extend contents in items to the items.DataFrame object\n",
    "5. then loop to next page\n",
    "6. conduct this action until \"None\" is returned"
   ]
  },
  {
   "cell_type": "code",
   "execution_count": 18,
   "metadata": {},
   "outputs": [
    {
     "name": "stdout",
     "output_type": "stream",
     "text": [
      "total number of pages in payload/items api: 3 pages\n"
     ]
    }
   ],
   "source": [
    "# printing total number of pages in api\n",
    "\n",
    "domain = 'https://python.zgulde.net'\n",
    "endpoint = '/api/v1/items'\n",
    "url = domain + endpoint\n",
    "\n",
    "response = requests.get(url)\n",
    "data = response.json()\n",
    "\n",
    "pages = data['payload']['max_page']\n",
    "print(f'total number of pages in payload/items api: {pages} pages')"
   ]
  },
  {
   "cell_type": "code",
   "execution_count": 19,
   "metadata": {},
   "outputs": [
    {
     "name": "stdout",
     "output_type": "stream",
     "text": [
      "\n",
      "shape of items dataframe: (50, 6)\n"
     ]
    },
    {
     "data": {
      "text/html": [
       "<div>\n",
       "<style scoped>\n",
       "    .dataframe tbody tr th:only-of-type {\n",
       "        vertical-align: middle;\n",
       "    }\n",
       "\n",
       "    .dataframe tbody tr th {\n",
       "        vertical-align: top;\n",
       "    }\n",
       "\n",
       "    .dataframe thead th {\n",
       "        text-align: right;\n",
       "    }\n",
       "</style>\n",
       "<table border=\"1\" class=\"dataframe\">\n",
       "  <thead>\n",
       "    <tr style=\"text-align: right;\">\n",
       "      <th></th>\n",
       "      <th>item_brand</th>\n",
       "      <th>item_id</th>\n",
       "      <th>item_name</th>\n",
       "      <th>item_price</th>\n",
       "      <th>item_upc12</th>\n",
       "      <th>item_upc14</th>\n",
       "    </tr>\n",
       "  </thead>\n",
       "  <tbody>\n",
       "    <tr>\n",
       "      <th>0</th>\n",
       "      <td>Riceland</td>\n",
       "      <td>1</td>\n",
       "      <td>Riceland American Jazmine Rice</td>\n",
       "      <td>0.84</td>\n",
       "      <td>35200264013</td>\n",
       "      <td>35200264013</td>\n",
       "    </tr>\n",
       "    <tr>\n",
       "      <th>1</th>\n",
       "      <td>Caress</td>\n",
       "      <td>2</td>\n",
       "      <td>Caress Velvet Bliss Ultra Silkening Beauty Bar...</td>\n",
       "      <td>6.44</td>\n",
       "      <td>11111065925</td>\n",
       "      <td>11111065925</td>\n",
       "    </tr>\n",
       "    <tr>\n",
       "      <th>2</th>\n",
       "      <td>Earths Best</td>\n",
       "      <td>3</td>\n",
       "      <td>Earths Best Organic Fruit Yogurt Smoothie Mixe...</td>\n",
       "      <td>2.43</td>\n",
       "      <td>23923330139</td>\n",
       "      <td>23923330139</td>\n",
       "    </tr>\n",
       "    <tr>\n",
       "      <th>3</th>\n",
       "      <td>Boars Head</td>\n",
       "      <td>4</td>\n",
       "      <td>Boars Head Sliced White American Cheese - 120 Ct</td>\n",
       "      <td>3.14</td>\n",
       "      <td>208528800007</td>\n",
       "      <td>208528800007</td>\n",
       "    </tr>\n",
       "    <tr>\n",
       "      <th>4</th>\n",
       "      <td>Back To Nature</td>\n",
       "      <td>5</td>\n",
       "      <td>Back To Nature Gluten Free White Cheddar Rice ...</td>\n",
       "      <td>2.61</td>\n",
       "      <td>759283100036</td>\n",
       "      <td>759283100036</td>\n",
       "    </tr>\n",
       "  </tbody>\n",
       "</table>\n",
       "</div>"
      ],
      "text/plain": [
       "       item_brand  item_id                                          item_name  \\\n",
       "0        Riceland        1                     Riceland American Jazmine Rice   \n",
       "1          Caress        2  Caress Velvet Bliss Ultra Silkening Beauty Bar...   \n",
       "2     Earths Best        3  Earths Best Organic Fruit Yogurt Smoothie Mixe...   \n",
       "3      Boars Head        4   Boars Head Sliced White American Cheese - 120 Ct   \n",
       "4  Back To Nature        5  Back To Nature Gluten Free White Cheddar Rice ...   \n",
       "\n",
       "   item_price    item_upc12    item_upc14  \n",
       "0        0.84   35200264013   35200264013  \n",
       "1        6.44   11111065925   11111065925  \n",
       "2        2.43   23923330139   23923330139  \n",
       "3        3.14  208528800007  208528800007  \n",
       "4        2.61  759283100036  759283100036  "
      ]
     },
     "execution_count": 19,
     "metadata": {},
     "output_type": "execute_result"
    }
   ],
   "source": [
    "# breaking down initial steps for process learning purposes\n",
    "\n",
    "url = 'https://python.zgulde.net/api/v1/items'\n",
    "items = []\n",
    "\n",
    "# loop will iterate for the total number of api pages = 3 or 3 times\n",
    "for info in range(pages):\n",
    "\n",
    "    # create the response object using the first url\n",
    "    response = requests.get(url)\n",
    "\n",
    "    # convert the response object to a json object\n",
    "    data = response.json()\n",
    "    \n",
    "    # add first contents to the items list\n",
    "    items.extend(data['payload']['items'])\n",
    "    \n",
    "    # check next api page, if 'none' break out of loop\n",
    "    if data['payload']['next_page'] == None:\n",
    "        break\n",
    "    \n",
    "    # anything other than 'none', update the url with the next endpoint and continue loop until no more pages left\n",
    "    else:\n",
    "        url = 'https://python.zgulde.net' + data['payload']['next_page']\n",
    "\n",
    "\n",
    "# creating and returning the items dataframe\n",
    "items = pd.DataFrame(items)\n",
    "print()\n",
    "print(f'shape of items dataframe: {items.shape}')\n",
    "items.head()"
   ]
  },
  {
   "cell_type": "markdown",
   "metadata": {},
   "source": [
    "----\n",
    "**``Exercise Number 2: Taking same steps for for `stores` (https://python.zgulde.net/api/v1/stores)``**\n",
    "\n",
    "\n",
    "**Creating a loop to conduct the following:**\n",
    "\n",
    "1. assign the API address to a url/request object\n",
    "2. convert the url to a json() file \n",
    "3. from the json file, get the 'payload' key and secondly, 'items' key\n",
    "4. convert/extend contents in items to the items.DataFrame object\n",
    "5. then loop to next page\n",
    "6. conduct this action until \"None\" is returned"
   ]
  },
  {
   "cell_type": "code",
   "execution_count": 20,
   "metadata": {},
   "outputs": [
    {
     "data": {
      "text/plain": [
       "<Response [200]>"
      ]
     },
     "execution_count": 20,
     "metadata": {},
     "output_type": "execute_result"
    }
   ],
   "source": [
    "# let's first connect and inspect the api\n",
    "\n",
    "url = 'https://python.zgulde.net/api/v1/stores'\n",
    "response = requests.get(url)\n",
    "response # successful connection!"
   ]
  },
  {
   "cell_type": "code",
   "execution_count": 21,
   "metadata": {},
   "outputs": [
    {
     "data": {
      "text/plain": [
       "{'payload': {'max_page': 1,\n",
       "  'next_page': None,\n",
       "  'page': 1,\n",
       "  'previous_page': None,\n",
       "  'stores': [{'store_address': '12125 Alamo Ranch Pkwy',\n",
       "    'store_city': 'San Antonio',\n",
       "    'store_id': 1,\n",
       "    'store_state': 'TX',\n",
       "    'store_zipcode': '78253'},\n",
       "   {'store_address': '9255 FM 471 West',\n",
       "    'store_city': 'San Antonio',\n",
       "    'store_id': 2,\n",
       "    'store_state': 'TX',\n",
       "    'store_zipcode': '78251'},\n",
       "   {'store_address': '2118 Fredericksburg Rdj',\n",
       "    'store_city': 'San Antonio',\n",
       "    'store_id': 3,\n",
       "    'store_state': 'TX',\n",
       "    'store_zipcode': '78201'},\n",
       "   {'store_address': '516 S Flores St',\n",
       "    'store_city': 'San Antonio',\n",
       "    'store_id': 4,\n",
       "    'store_state': 'TX',\n",
       "    'store_zipcode': '78204'},\n",
       "   {'store_address': '1520 Austin Hwy',\n",
       "    'store_city': 'San Antonio',\n",
       "    'store_id': 5,\n",
       "    'store_state': 'TX',\n",
       "    'store_zipcode': '78218'},\n",
       "   {'store_address': '1015 S WW White Rd',\n",
       "    'store_city': 'San Antonio',\n",
       "    'store_id': 6,\n",
       "    'store_state': 'TX',\n",
       "    'store_zipcode': '78220'},\n",
       "   {'store_address': '12018 Perrin Beitel Rd',\n",
       "    'store_city': 'San Antonio',\n",
       "    'store_id': 7,\n",
       "    'store_state': 'TX',\n",
       "    'store_zipcode': '78217'},\n",
       "   {'store_address': '15000 San Pedro Ave',\n",
       "    'store_city': 'San Antonio',\n",
       "    'store_id': 8,\n",
       "    'store_state': 'TX',\n",
       "    'store_zipcode': '78232'},\n",
       "   {'store_address': '735 SW Military Dr',\n",
       "    'store_city': 'San Antonio',\n",
       "    'store_id': 9,\n",
       "    'store_state': 'TX',\n",
       "    'store_zipcode': '78221'},\n",
       "   {'store_address': '8503 NW Military Hwy',\n",
       "    'store_city': 'San Antonio',\n",
       "    'store_id': 10,\n",
       "    'store_state': 'TX',\n",
       "    'store_zipcode': '78231'}]},\n",
       " 'status': 'ok'}"
      ]
     },
     "execution_count": 21,
     "metadata": {},
     "output_type": "execute_result"
    }
   ],
   "source": [
    "# let's convert the response to a json type object\n",
    "\n",
    "data = response.json()\n",
    "data # checks out!"
   ]
  },
  {
   "cell_type": "code",
   "execution_count": 22,
   "metadata": {},
   "outputs": [
    {
     "data": {
      "text/plain": [
       "dict_keys(['payload', 'status'])"
      ]
     },
     "execution_count": 22,
     "metadata": {},
     "output_type": "execute_result"
    }
   ],
   "source": [
    "# initial keys in data/api\n",
    "\n",
    "data.keys() # dict_keys(['payload', 'status'])"
   ]
  },
  {
   "cell_type": "code",
   "execution_count": 23,
   "metadata": {},
   "outputs": [
    {
     "data": {
      "text/plain": [
       "'ok'"
      ]
     },
     "execution_count": 23,
     "metadata": {},
     "output_type": "execute_result"
    }
   ],
   "source": [
    "# what about status?\n",
    "\n",
    "data['status'] # nothing, but ok!"
   ]
  },
  {
   "cell_type": "code",
   "execution_count": 24,
   "metadata": {},
   "outputs": [
    {
     "data": {
      "text/plain": [
       "{'max_page': 1,\n",
       " 'next_page': None,\n",
       " 'page': 1,\n",
       " 'previous_page': None,\n",
       " 'stores': [{'store_address': '12125 Alamo Ranch Pkwy',\n",
       "   'store_city': 'San Antonio',\n",
       "   'store_id': 1,\n",
       "   'store_state': 'TX',\n",
       "   'store_zipcode': '78253'},\n",
       "  {'store_address': '9255 FM 471 West',\n",
       "   'store_city': 'San Antonio',\n",
       "   'store_id': 2,\n",
       "   'store_state': 'TX',\n",
       "   'store_zipcode': '78251'},\n",
       "  {'store_address': '2118 Fredericksburg Rdj',\n",
       "   'store_city': 'San Antonio',\n",
       "   'store_id': 3,\n",
       "   'store_state': 'TX',\n",
       "   'store_zipcode': '78201'},\n",
       "  {'store_address': '516 S Flores St',\n",
       "   'store_city': 'San Antonio',\n",
       "   'store_id': 4,\n",
       "   'store_state': 'TX',\n",
       "   'store_zipcode': '78204'},\n",
       "  {'store_address': '1520 Austin Hwy',\n",
       "   'store_city': 'San Antonio',\n",
       "   'store_id': 5,\n",
       "   'store_state': 'TX',\n",
       "   'store_zipcode': '78218'},\n",
       "  {'store_address': '1015 S WW White Rd',\n",
       "   'store_city': 'San Antonio',\n",
       "   'store_id': 6,\n",
       "   'store_state': 'TX',\n",
       "   'store_zipcode': '78220'},\n",
       "  {'store_address': '12018 Perrin Beitel Rd',\n",
       "   'store_city': 'San Antonio',\n",
       "   'store_id': 7,\n",
       "   'store_state': 'TX',\n",
       "   'store_zipcode': '78217'},\n",
       "  {'store_address': '15000 San Pedro Ave',\n",
       "   'store_city': 'San Antonio',\n",
       "   'store_id': 8,\n",
       "   'store_state': 'TX',\n",
       "   'store_zipcode': '78232'},\n",
       "  {'store_address': '735 SW Military Dr',\n",
       "   'store_city': 'San Antonio',\n",
       "   'store_id': 9,\n",
       "   'store_state': 'TX',\n",
       "   'store_zipcode': '78221'},\n",
       "  {'store_address': '8503 NW Military Hwy',\n",
       "   'store_city': 'San Antonio',\n",
       "   'store_id': 10,\n",
       "   'store_state': 'TX',\n",
       "   'store_zipcode': '78231'}]}"
      ]
     },
     "execution_count": 24,
     "metadata": {},
     "output_type": "execute_result"
    }
   ],
   "source": [
    "# and payload?\n",
    "\n",
    "data['payload'] # ok, seems to have some information -- let's view what's inside."
   ]
  },
  {
   "cell_type": "code",
   "execution_count": 25,
   "metadata": {},
   "outputs": [
    {
     "data": {
      "text/plain": [
       "dict_keys(['max_page', 'next_page', 'page', 'previous_page', 'stores'])"
      ]
     },
     "execution_count": 25,
     "metadata": {},
     "output_type": "execute_result"
    }
   ],
   "source": [
    "# payload contains the following: dict_keys(['max_page', 'next_page', 'page', 'previous_page', 'stores'])\n",
    "data['payload'].keys()"
   ]
  },
  {
   "cell_type": "code",
   "execution_count": 26,
   "metadata": {},
   "outputs": [
    {
     "data": {
      "text/plain": [
       "[{'store_address': '12125 Alamo Ranch Pkwy',\n",
       "  'store_city': 'San Antonio',\n",
       "  'store_id': 1,\n",
       "  'store_state': 'TX',\n",
       "  'store_zipcode': '78253'},\n",
       " {'store_address': '9255 FM 471 West',\n",
       "  'store_city': 'San Antonio',\n",
       "  'store_id': 2,\n",
       "  'store_state': 'TX',\n",
       "  'store_zipcode': '78251'},\n",
       " {'store_address': '2118 Fredericksburg Rdj',\n",
       "  'store_city': 'San Antonio',\n",
       "  'store_id': 3,\n",
       "  'store_state': 'TX',\n",
       "  'store_zipcode': '78201'},\n",
       " {'store_address': '516 S Flores St',\n",
       "  'store_city': 'San Antonio',\n",
       "  'store_id': 4,\n",
       "  'store_state': 'TX',\n",
       "  'store_zipcode': '78204'},\n",
       " {'store_address': '1520 Austin Hwy',\n",
       "  'store_city': 'San Antonio',\n",
       "  'store_id': 5,\n",
       "  'store_state': 'TX',\n",
       "  'store_zipcode': '78218'},\n",
       " {'store_address': '1015 S WW White Rd',\n",
       "  'store_city': 'San Antonio',\n",
       "  'store_id': 6,\n",
       "  'store_state': 'TX',\n",
       "  'store_zipcode': '78220'},\n",
       " {'store_address': '12018 Perrin Beitel Rd',\n",
       "  'store_city': 'San Antonio',\n",
       "  'store_id': 7,\n",
       "  'store_state': 'TX',\n",
       "  'store_zipcode': '78217'},\n",
       " {'store_address': '15000 San Pedro Ave',\n",
       "  'store_city': 'San Antonio',\n",
       "  'store_id': 8,\n",
       "  'store_state': 'TX',\n",
       "  'store_zipcode': '78232'},\n",
       " {'store_address': '735 SW Military Dr',\n",
       "  'store_city': 'San Antonio',\n",
       "  'store_id': 9,\n",
       "  'store_state': 'TX',\n",
       "  'store_zipcode': '78221'},\n",
       " {'store_address': '8503 NW Military Hwy',\n",
       "  'store_city': 'San Antonio',\n",
       "  'store_id': 10,\n",
       "  'store_state': 'TX',\n",
       "  'store_zipcode': '78231'}]"
      ]
     },
     "execution_count": 26,
     "metadata": {},
     "output_type": "execute_result"
    }
   ],
   "source": [
    "# checking stores first\n",
    "data['payload']['stores']"
   ]
  },
  {
   "cell_type": "code",
   "execution_count": 27,
   "metadata": {},
   "outputs": [
    {
     "name": "stdout",
     "output_type": "stream",
     "text": [
      "1 None 1 None\n"
     ]
    }
   ],
   "source": [
    "# printing payload key contents\n",
    "\n",
    "print(\n",
    "data['payload']['max_page'],\n",
    "data['payload']['next_page'],\n",
    "data['payload']['page'],\n",
    "data['payload']['previous_page']\n",
    ")"
   ]
  },
  {
   "cell_type": "code",
   "execution_count": 28,
   "metadata": {},
   "outputs": [
    {
     "name": "stdout",
     "output_type": "stream",
     "text": [
      "\n",
      "shape of items dataframe: (10, 5)\n"
     ]
    },
    {
     "data": {
      "text/html": [
       "<div>\n",
       "<style scoped>\n",
       "    .dataframe tbody tr th:only-of-type {\n",
       "        vertical-align: middle;\n",
       "    }\n",
       "\n",
       "    .dataframe tbody tr th {\n",
       "        vertical-align: top;\n",
       "    }\n",
       "\n",
       "    .dataframe thead th {\n",
       "        text-align: right;\n",
       "    }\n",
       "</style>\n",
       "<table border=\"1\" class=\"dataframe\">\n",
       "  <thead>\n",
       "    <tr style=\"text-align: right;\">\n",
       "      <th></th>\n",
       "      <th>store_address</th>\n",
       "      <th>store_city</th>\n",
       "      <th>store_id</th>\n",
       "      <th>store_state</th>\n",
       "      <th>store_zipcode</th>\n",
       "    </tr>\n",
       "  </thead>\n",
       "  <tbody>\n",
       "    <tr>\n",
       "      <th>0</th>\n",
       "      <td>12125 Alamo Ranch Pkwy</td>\n",
       "      <td>San Antonio</td>\n",
       "      <td>1</td>\n",
       "      <td>TX</td>\n",
       "      <td>78253</td>\n",
       "    </tr>\n",
       "    <tr>\n",
       "      <th>1</th>\n",
       "      <td>9255 FM 471 West</td>\n",
       "      <td>San Antonio</td>\n",
       "      <td>2</td>\n",
       "      <td>TX</td>\n",
       "      <td>78251</td>\n",
       "    </tr>\n",
       "    <tr>\n",
       "      <th>2</th>\n",
       "      <td>2118 Fredericksburg Rdj</td>\n",
       "      <td>San Antonio</td>\n",
       "      <td>3</td>\n",
       "      <td>TX</td>\n",
       "      <td>78201</td>\n",
       "    </tr>\n",
       "    <tr>\n",
       "      <th>3</th>\n",
       "      <td>516 S Flores St</td>\n",
       "      <td>San Antonio</td>\n",
       "      <td>4</td>\n",
       "      <td>TX</td>\n",
       "      <td>78204</td>\n",
       "    </tr>\n",
       "    <tr>\n",
       "      <th>4</th>\n",
       "      <td>1520 Austin Hwy</td>\n",
       "      <td>San Antonio</td>\n",
       "      <td>5</td>\n",
       "      <td>TX</td>\n",
       "      <td>78218</td>\n",
       "    </tr>\n",
       "  </tbody>\n",
       "</table>\n",
       "</div>"
      ],
      "text/plain": [
       "             store_address   store_city  store_id store_state store_zipcode\n",
       "0   12125 Alamo Ranch Pkwy  San Antonio         1          TX         78253\n",
       "1         9255 FM 471 West  San Antonio         2          TX         78251\n",
       "2  2118 Fredericksburg Rdj  San Antonio         3          TX         78201\n",
       "3          516 S Flores St  San Antonio         4          TX         78204\n",
       "4          1520 Austin Hwy  San Antonio         5          TX         78218"
      ]
     },
     "execution_count": 28,
     "metadata": {},
     "output_type": "execute_result"
    }
   ],
   "source": [
    "# let's create the loop \n",
    "\n",
    "# assign total number of pages in api/data variable\n",
    "pages = data['payload']['max_page']\n",
    "\n",
    "url = 'https://python.zgulde.net/api/v1/stores'\n",
    "stores = []\n",
    "\n",
    "for page in range(pages):\n",
    "\n",
    "    # use the initial url to create the response object\n",
    "    response = requests.get(url)\n",
    "\n",
    "    # convert response to json object\n",
    "    data = response.json()\n",
    "    \n",
    "    # extend/append results from 'stores' key\n",
    "    stores.extend(data['payload']['stores'])\n",
    "\n",
    "    # check if next page is == 'none', if yes -- create the stores dataframe with current data\n",
    "    if data['payload']['next_page'] == None:\n",
    "        stores = pd.DataFrame(stores)\n",
    "        break\n",
    "    \n",
    "    # if there are remaining pages, continue to next page by updating the url\n",
    "    else: \n",
    "        url = 'https://python.zgulde.net/' + data['payload']['next_page']\n",
    "\n",
    "print()\n",
    "print(f'shape of items dataframe: {stores.shape}')\n",
    "stores.head() # checks out!"
   ]
  },
  {
   "cell_type": "markdown",
   "metadata": {},
   "source": [
    "----\n",
    "**``Exercise Number 3: Extract the data for `sales` (https://python.zgulde.net/api/v1/sales). There are a lot of pages of data here, so your code will need to be a little more complex. Your code should continue fetching data from the next page until all of the data is extracted.``**"
   ]
  },
  {
   "cell_type": "code",
   "execution_count": 29,
   "metadata": {},
   "outputs": [
    {
     "data": {
      "text/plain": [
       "<Response [200]>"
      ]
     },
     "execution_count": 29,
     "metadata": {},
     "output_type": "execute_result"
    }
   ],
   "source": [
    "# let's connect and inspect\n",
    "\n",
    "url = 'https://python.zgulde.net/api/v1/sales'\n",
    "response = requests.get(url)\n",
    "\n",
    "# return response\n",
    "response # checks out!"
   ]
  },
  {
   "cell_type": "code",
   "execution_count": 30,
   "metadata": {},
   "outputs": [
    {
     "data": {
      "text/plain": [
       "dict_keys(['payload', 'status'])"
      ]
     },
     "execution_count": 30,
     "metadata": {},
     "output_type": "execute_result"
    }
   ],
   "source": [
    "# creating the json object and inspecting the contents in sales\n",
    "\n",
    "data = response.json()\n",
    "data.keys()"
   ]
  },
  {
   "cell_type": "code",
   "execution_count": 31,
   "metadata": {},
   "outputs": [
    {
     "data": {
      "text/plain": [
       "dict_keys(['max_page', 'next_page', 'page', 'previous_page', 'sales'])"
      ]
     },
     "execution_count": 31,
     "metadata": {},
     "output_type": "execute_result"
    }
   ],
   "source": [
    "# let's inspect payload keys\n",
    "\n",
    "data['payload'].keys() # let's peek into the total num/max pages and create the sales loop"
   ]
  },
  {
   "cell_type": "code",
   "execution_count": 32,
   "metadata": {},
   "outputs": [
    {
     "name": "stdout",
     "output_type": "stream",
     "text": [
      "total number of pages in payload/items api: 183 pages\n"
     ]
    }
   ],
   "source": [
    "# number of total pages in API\n",
    "\n",
    "pages = data['payload']['max_page'] # 183 pages\n",
    "print(f'total number of pages in payload/items api: {pages} pages')\n"
   ]
  },
  {
   "cell_type": "code",
   "execution_count": 33,
   "metadata": {},
   "outputs": [
    {
     "data": {
      "application/vnd.jupyter.widget-view+json": {
       "model_id": "367bcb32ef1b4799ad76a4421660a127",
       "version_major": 2,
       "version_minor": 0
      },
      "text/plain": [
       "  0%|          | 0/183 [00:00<?, ?it/s]"
      ]
     },
     "metadata": {},
     "output_type": "display_data"
    },
    {
     "name": "stdout",
     "output_type": "stream",
     "text": [
      "\n",
      "shape of items dataframe: (913000, 5)\n"
     ]
    },
    {
     "data": {
      "text/html": [
       "<div>\n",
       "<style scoped>\n",
       "    .dataframe tbody tr th:only-of-type {\n",
       "        vertical-align: middle;\n",
       "    }\n",
       "\n",
       "    .dataframe tbody tr th {\n",
       "        vertical-align: top;\n",
       "    }\n",
       "\n",
       "    .dataframe thead th {\n",
       "        text-align: right;\n",
       "    }\n",
       "</style>\n",
       "<table border=\"1\" class=\"dataframe\">\n",
       "  <thead>\n",
       "    <tr style=\"text-align: right;\">\n",
       "      <th></th>\n",
       "      <th>item</th>\n",
       "      <th>sale_amount</th>\n",
       "      <th>sale_date</th>\n",
       "      <th>sale_id</th>\n",
       "      <th>store</th>\n",
       "    </tr>\n",
       "  </thead>\n",
       "  <tbody>\n",
       "    <tr>\n",
       "      <th>0</th>\n",
       "      <td>1</td>\n",
       "      <td>13.0</td>\n",
       "      <td>Tue, 01 Jan 2013 00:00:00 GMT</td>\n",
       "      <td>1</td>\n",
       "      <td>1</td>\n",
       "    </tr>\n",
       "    <tr>\n",
       "      <th>1</th>\n",
       "      <td>1</td>\n",
       "      <td>11.0</td>\n",
       "      <td>Wed, 02 Jan 2013 00:00:00 GMT</td>\n",
       "      <td>2</td>\n",
       "      <td>1</td>\n",
       "    </tr>\n",
       "    <tr>\n",
       "      <th>2</th>\n",
       "      <td>1</td>\n",
       "      <td>14.0</td>\n",
       "      <td>Thu, 03 Jan 2013 00:00:00 GMT</td>\n",
       "      <td>3</td>\n",
       "      <td>1</td>\n",
       "    </tr>\n",
       "    <tr>\n",
       "      <th>3</th>\n",
       "      <td>1</td>\n",
       "      <td>13.0</td>\n",
       "      <td>Fri, 04 Jan 2013 00:00:00 GMT</td>\n",
       "      <td>4</td>\n",
       "      <td>1</td>\n",
       "    </tr>\n",
       "    <tr>\n",
       "      <th>4</th>\n",
       "      <td>1</td>\n",
       "      <td>10.0</td>\n",
       "      <td>Sat, 05 Jan 2013 00:00:00 GMT</td>\n",
       "      <td>5</td>\n",
       "      <td>1</td>\n",
       "    </tr>\n",
       "  </tbody>\n",
       "</table>\n",
       "</div>"
      ],
      "text/plain": [
       "   item  sale_amount                      sale_date  sale_id  store\n",
       "0     1         13.0  Tue, 01 Jan 2013 00:00:00 GMT        1      1\n",
       "1     1         11.0  Wed, 02 Jan 2013 00:00:00 GMT        2      1\n",
       "2     1         14.0  Thu, 03 Jan 2013 00:00:00 GMT        3      1\n",
       "3     1         13.0  Fri, 04 Jan 2013 00:00:00 GMT        4      1\n",
       "4     1         10.0  Sat, 05 Jan 2013 00:00:00 GMT        5      1"
      ]
     },
     "execution_count": 33,
     "metadata": {},
     "output_type": "execute_result"
    }
   ],
   "source": [
    "# let's get loopy\n",
    "\n",
    "# initial api url for connecting\n",
    "url = 'https://python.zgulde.net/api/v1/sales'\n",
    "\n",
    "# empty container list to hold data while looping through sales pages\n",
    "sales = []\n",
    "\n",
    "for page in tqdm(range(pages)):\n",
    "\n",
    "    # use the initial url to create the response object\n",
    "    response = requests.get(url)\n",
    "\n",
    "    # convert response to json object\n",
    "    data = response.json()\n",
    "    \n",
    "    # extend/append results from 'sales' key\n",
    "    sales.extend(data['payload']['sales'])\n",
    "\n",
    "    # check if next page is == 'none', if yes -- create the sales dataframe with current data\n",
    "    if data['payload']['next_page'] == None:\n",
    "        sales = pd.DataFrame(sales)\n",
    "        break\n",
    "    \n",
    "    # if there are remaining pages, continue to next page by updating the url\n",
    "    else: \n",
    "        url = 'https://python.zgulde.net/' + data['payload']['next_page']\n",
    "\n",
    "print()\n",
    "print(f'shape of items dataframe: {sales.shape}')\n",
    "sales.head() # checks out!"
   ]
  },
  {
   "cell_type": "markdown",
   "metadata": {},
   "source": [
    "----\n",
    "**``Exercise Number 4: Save the data in your files to local csv files so that it will be faster to access in the future.``**"
   ]
  },
  {
   "cell_type": "code",
   "execution_count": 34,
   "metadata": {},
   "outputs": [],
   "source": [
    "# creating the csv files for items, stores, and sales\n",
    "\n",
    "# items.to_csv(\"/Users/mijailmariano/codeup-data-science/time-series-exercises/items.csv\")\n",
    "# stores.to_csv(\"/Users/mijailmariano/codeup-data-science/time-series-exercises/stores.csv\")\n",
    "# sales.to_csv(\"/Users/mijailmariano/codeup-data-science/time-series-exercises/sales.csv\")"
   ]
  },
  {
   "cell_type": "markdown",
   "metadata": {},
   "source": [
    "----\n",
    "**``Exercise Number 5: Combine the data from your three separate dataframes into one large dataframe.``**"
   ]
  },
  {
   "cell_type": "code",
   "execution_count": 35,
   "metadata": {},
   "outputs": [
    {
     "name": "stdout",
     "output_type": "stream",
     "text": [
      "Index(['item_brand', 'item_id', 'item_name', 'item_price', 'item_upc12',\n",
      "       'item_upc14'],\n",
      "      dtype='object')\n",
      "Index(['store_address', 'store_city', 'store_id', 'store_state',\n",
      "       'store_zipcode'],\n",
      "      dtype='object')\n",
      "Index(['item', 'sale_amount', 'sale_date', 'sale_id', 'store'], dtype='object')\n"
     ]
    }
   ],
   "source": [
    "# let's inspect the dataframes for merger\n",
    "\n",
    "print(items.columns)\n",
    "print(stores.columns)\n",
    "print(sales.columns)"
   ]
  },
  {
   "cell_type": "code",
   "execution_count": 36,
   "metadata": {},
   "outputs": [
    {
     "data": {
      "text/html": [
       "<div>\n",
       "<style scoped>\n",
       "    .dataframe tbody tr th:only-of-type {\n",
       "        vertical-align: middle;\n",
       "    }\n",
       "\n",
       "    .dataframe tbody tr th {\n",
       "        vertical-align: top;\n",
       "    }\n",
       "\n",
       "    .dataframe thead th {\n",
       "        text-align: right;\n",
       "    }\n",
       "</style>\n",
       "<table border=\"1\" class=\"dataframe\">\n",
       "  <thead>\n",
       "    <tr style=\"text-align: right;\">\n",
       "      <th></th>\n",
       "      <th>item_brand</th>\n",
       "      <th>item_id</th>\n",
       "      <th>item_name</th>\n",
       "      <th>item_price</th>\n",
       "      <th>item_upc12</th>\n",
       "      <th>item_upc14</th>\n",
       "    </tr>\n",
       "  </thead>\n",
       "  <tbody>\n",
       "    <tr>\n",
       "      <th>0</th>\n",
       "      <td>Riceland</td>\n",
       "      <td>1</td>\n",
       "      <td>Riceland American Jazmine Rice</td>\n",
       "      <td>0.84</td>\n",
       "      <td>35200264013</td>\n",
       "      <td>35200264013</td>\n",
       "    </tr>\n",
       "    <tr>\n",
       "      <th>1</th>\n",
       "      <td>Caress</td>\n",
       "      <td>2</td>\n",
       "      <td>Caress Velvet Bliss Ultra Silkening Beauty Bar...</td>\n",
       "      <td>6.44</td>\n",
       "      <td>11111065925</td>\n",
       "      <td>11111065925</td>\n",
       "    </tr>\n",
       "    <tr>\n",
       "      <th>2</th>\n",
       "      <td>Earths Best</td>\n",
       "      <td>3</td>\n",
       "      <td>Earths Best Organic Fruit Yogurt Smoothie Mixe...</td>\n",
       "      <td>2.43</td>\n",
       "      <td>23923330139</td>\n",
       "      <td>23923330139</td>\n",
       "    </tr>\n",
       "    <tr>\n",
       "      <th>3</th>\n",
       "      <td>Boars Head</td>\n",
       "      <td>4</td>\n",
       "      <td>Boars Head Sliced White American Cheese - 120 Ct</td>\n",
       "      <td>3.14</td>\n",
       "      <td>208528800007</td>\n",
       "      <td>208528800007</td>\n",
       "    </tr>\n",
       "    <tr>\n",
       "      <th>4</th>\n",
       "      <td>Back To Nature</td>\n",
       "      <td>5</td>\n",
       "      <td>Back To Nature Gluten Free White Cheddar Rice ...</td>\n",
       "      <td>2.61</td>\n",
       "      <td>759283100036</td>\n",
       "      <td>759283100036</td>\n",
       "    </tr>\n",
       "  </tbody>\n",
       "</table>\n",
       "</div>"
      ],
      "text/plain": [
       "       item_brand  item_id                                          item_name  \\\n",
       "0        Riceland        1                     Riceland American Jazmine Rice   \n",
       "1          Caress        2  Caress Velvet Bliss Ultra Silkening Beauty Bar...   \n",
       "2     Earths Best        3  Earths Best Organic Fruit Yogurt Smoothie Mixe...   \n",
       "3      Boars Head        4   Boars Head Sliced White American Cheese - 120 Ct   \n",
       "4  Back To Nature        5  Back To Nature Gluten Free White Cheddar Rice ...   \n",
       "\n",
       "   item_price    item_upc12    item_upc14  \n",
       "0        0.84   35200264013   35200264013  \n",
       "1        6.44   11111065925   11111065925  \n",
       "2        2.43   23923330139   23923330139  \n",
       "3        3.14  208528800007  208528800007  \n",
       "4        2.61  759283100036  759283100036  "
      ]
     },
     "execution_count": 36,
     "metadata": {},
     "output_type": "execute_result"
    }
   ],
   "source": [
    "items.head()"
   ]
  },
  {
   "cell_type": "code",
   "execution_count": 37,
   "metadata": {},
   "outputs": [
    {
     "data": {
      "text/html": [
       "<div>\n",
       "<style scoped>\n",
       "    .dataframe tbody tr th:only-of-type {\n",
       "        vertical-align: middle;\n",
       "    }\n",
       "\n",
       "    .dataframe tbody tr th {\n",
       "        vertical-align: top;\n",
       "    }\n",
       "\n",
       "    .dataframe thead th {\n",
       "        text-align: right;\n",
       "    }\n",
       "</style>\n",
       "<table border=\"1\" class=\"dataframe\">\n",
       "  <thead>\n",
       "    <tr style=\"text-align: right;\">\n",
       "      <th></th>\n",
       "      <th>item</th>\n",
       "      <th>sale_amount</th>\n",
       "      <th>sale_date</th>\n",
       "      <th>sale_id</th>\n",
       "      <th>store</th>\n",
       "    </tr>\n",
       "  </thead>\n",
       "  <tbody>\n",
       "    <tr>\n",
       "      <th>0</th>\n",
       "      <td>1</td>\n",
       "      <td>13.0</td>\n",
       "      <td>Tue, 01 Jan 2013 00:00:00 GMT</td>\n",
       "      <td>1</td>\n",
       "      <td>1</td>\n",
       "    </tr>\n",
       "    <tr>\n",
       "      <th>1</th>\n",
       "      <td>1</td>\n",
       "      <td>11.0</td>\n",
       "      <td>Wed, 02 Jan 2013 00:00:00 GMT</td>\n",
       "      <td>2</td>\n",
       "      <td>1</td>\n",
       "    </tr>\n",
       "    <tr>\n",
       "      <th>2</th>\n",
       "      <td>1</td>\n",
       "      <td>14.0</td>\n",
       "      <td>Thu, 03 Jan 2013 00:00:00 GMT</td>\n",
       "      <td>3</td>\n",
       "      <td>1</td>\n",
       "    </tr>\n",
       "    <tr>\n",
       "      <th>3</th>\n",
       "      <td>1</td>\n",
       "      <td>13.0</td>\n",
       "      <td>Fri, 04 Jan 2013 00:00:00 GMT</td>\n",
       "      <td>4</td>\n",
       "      <td>1</td>\n",
       "    </tr>\n",
       "    <tr>\n",
       "      <th>4</th>\n",
       "      <td>1</td>\n",
       "      <td>10.0</td>\n",
       "      <td>Sat, 05 Jan 2013 00:00:00 GMT</td>\n",
       "      <td>5</td>\n",
       "      <td>1</td>\n",
       "    </tr>\n",
       "  </tbody>\n",
       "</table>\n",
       "</div>"
      ],
      "text/plain": [
       "   item  sale_amount                      sale_date  sale_id  store\n",
       "0     1         13.0  Tue, 01 Jan 2013 00:00:00 GMT        1      1\n",
       "1     1         11.0  Wed, 02 Jan 2013 00:00:00 GMT        2      1\n",
       "2     1         14.0  Thu, 03 Jan 2013 00:00:00 GMT        3      1\n",
       "3     1         13.0  Fri, 04 Jan 2013 00:00:00 GMT        4      1\n",
       "4     1         10.0  Sat, 05 Jan 2013 00:00:00 GMT        5      1"
      ]
     },
     "execution_count": 37,
     "metadata": {},
     "output_type": "execute_result"
    }
   ],
   "source": [
    "sales.head()"
   ]
  },
  {
   "cell_type": "code",
   "execution_count": 38,
   "metadata": {},
   "outputs": [
    {
     "data": {
      "text/html": [
       "<div>\n",
       "<style scoped>\n",
       "    .dataframe tbody tr th:only-of-type {\n",
       "        vertical-align: middle;\n",
       "    }\n",
       "\n",
       "    .dataframe tbody tr th {\n",
       "        vertical-align: top;\n",
       "    }\n",
       "\n",
       "    .dataframe thead th {\n",
       "        text-align: right;\n",
       "    }\n",
       "</style>\n",
       "<table border=\"1\" class=\"dataframe\">\n",
       "  <thead>\n",
       "    <tr style=\"text-align: right;\">\n",
       "      <th></th>\n",
       "      <th>store_address</th>\n",
       "      <th>store_city</th>\n",
       "      <th>store_id</th>\n",
       "      <th>store_state</th>\n",
       "      <th>store_zipcode</th>\n",
       "    </tr>\n",
       "  </thead>\n",
       "  <tbody>\n",
       "    <tr>\n",
       "      <th>0</th>\n",
       "      <td>12125 Alamo Ranch Pkwy</td>\n",
       "      <td>San Antonio</td>\n",
       "      <td>1</td>\n",
       "      <td>TX</td>\n",
       "      <td>78253</td>\n",
       "    </tr>\n",
       "    <tr>\n",
       "      <th>1</th>\n",
       "      <td>9255 FM 471 West</td>\n",
       "      <td>San Antonio</td>\n",
       "      <td>2</td>\n",
       "      <td>TX</td>\n",
       "      <td>78251</td>\n",
       "    </tr>\n",
       "    <tr>\n",
       "      <th>2</th>\n",
       "      <td>2118 Fredericksburg Rdj</td>\n",
       "      <td>San Antonio</td>\n",
       "      <td>3</td>\n",
       "      <td>TX</td>\n",
       "      <td>78201</td>\n",
       "    </tr>\n",
       "    <tr>\n",
       "      <th>3</th>\n",
       "      <td>516 S Flores St</td>\n",
       "      <td>San Antonio</td>\n",
       "      <td>4</td>\n",
       "      <td>TX</td>\n",
       "      <td>78204</td>\n",
       "    </tr>\n",
       "    <tr>\n",
       "      <th>4</th>\n",
       "      <td>1520 Austin Hwy</td>\n",
       "      <td>San Antonio</td>\n",
       "      <td>5</td>\n",
       "      <td>TX</td>\n",
       "      <td>78218</td>\n",
       "    </tr>\n",
       "  </tbody>\n",
       "</table>\n",
       "</div>"
      ],
      "text/plain": [
       "             store_address   store_city  store_id store_state store_zipcode\n",
       "0   12125 Alamo Ranch Pkwy  San Antonio         1          TX         78253\n",
       "1         9255 FM 471 West  San Antonio         2          TX         78251\n",
       "2  2118 Fredericksburg Rdj  San Antonio         3          TX         78201\n",
       "3          516 S Flores St  San Antonio         4          TX         78204\n",
       "4          1520 Austin Hwy  San Antonio         5          TX         78218"
      ]
     },
     "execution_count": 38,
     "metadata": {},
     "output_type": "execute_result"
    }
   ],
   "source": [
    "stores.head()"
   ]
  },
  {
   "cell_type": "code",
   "execution_count": 39,
   "metadata": {},
   "outputs": [],
   "source": [
    "# notes (come back to this)\n",
    "\n",
    "merged_sales = sales.merge(\n",
    "    items, \n",
    "    how = \"left\", \n",
    "    left_on = \"item\",\n",
    "    right_on = \"item_id\").merge(\n",
    "        stores,\n",
    "        how = \"left\",\n",
    "        left_on = \"store\",\n",
    "        right_on = \"store_id\"\n",
    "    )"
   ]
  },
  {
   "cell_type": "code",
   "execution_count": 40,
   "metadata": {},
   "outputs": [
    {
     "data": {
      "text/html": [
       "<div>\n",
       "<style scoped>\n",
       "    .dataframe tbody tr th:only-of-type {\n",
       "        vertical-align: middle;\n",
       "    }\n",
       "\n",
       "    .dataframe tbody tr th {\n",
       "        vertical-align: top;\n",
       "    }\n",
       "\n",
       "    .dataframe thead th {\n",
       "        text-align: right;\n",
       "    }\n",
       "</style>\n",
       "<table border=\"1\" class=\"dataframe\">\n",
       "  <thead>\n",
       "    <tr style=\"text-align: right;\">\n",
       "      <th></th>\n",
       "      <th>item</th>\n",
       "      <th>sale_amount</th>\n",
       "      <th>sale_date</th>\n",
       "      <th>sale_id</th>\n",
       "      <th>store</th>\n",
       "      <th>item_brand</th>\n",
       "      <th>item_id</th>\n",
       "      <th>item_name</th>\n",
       "      <th>item_price</th>\n",
       "      <th>item_upc12</th>\n",
       "      <th>item_upc14</th>\n",
       "      <th>store_address</th>\n",
       "      <th>store_city</th>\n",
       "      <th>store_id</th>\n",
       "      <th>store_state</th>\n",
       "      <th>store_zipcode</th>\n",
       "    </tr>\n",
       "  </thead>\n",
       "  <tbody>\n",
       "    <tr>\n",
       "      <th>0</th>\n",
       "      <td>1</td>\n",
       "      <td>13.0</td>\n",
       "      <td>Tue, 01 Jan 2013 00:00:00 GMT</td>\n",
       "      <td>1</td>\n",
       "      <td>1</td>\n",
       "      <td>Riceland</td>\n",
       "      <td>1</td>\n",
       "      <td>Riceland American Jazmine Rice</td>\n",
       "      <td>0.84</td>\n",
       "      <td>35200264013</td>\n",
       "      <td>35200264013</td>\n",
       "      <td>12125 Alamo Ranch Pkwy</td>\n",
       "      <td>San Antonio</td>\n",
       "      <td>1</td>\n",
       "      <td>TX</td>\n",
       "      <td>78253</td>\n",
       "    </tr>\n",
       "    <tr>\n",
       "      <th>1</th>\n",
       "      <td>1</td>\n",
       "      <td>11.0</td>\n",
       "      <td>Wed, 02 Jan 2013 00:00:00 GMT</td>\n",
       "      <td>2</td>\n",
       "      <td>1</td>\n",
       "      <td>Riceland</td>\n",
       "      <td>1</td>\n",
       "      <td>Riceland American Jazmine Rice</td>\n",
       "      <td>0.84</td>\n",
       "      <td>35200264013</td>\n",
       "      <td>35200264013</td>\n",
       "      <td>12125 Alamo Ranch Pkwy</td>\n",
       "      <td>San Antonio</td>\n",
       "      <td>1</td>\n",
       "      <td>TX</td>\n",
       "      <td>78253</td>\n",
       "    </tr>\n",
       "    <tr>\n",
       "      <th>2</th>\n",
       "      <td>1</td>\n",
       "      <td>14.0</td>\n",
       "      <td>Thu, 03 Jan 2013 00:00:00 GMT</td>\n",
       "      <td>3</td>\n",
       "      <td>1</td>\n",
       "      <td>Riceland</td>\n",
       "      <td>1</td>\n",
       "      <td>Riceland American Jazmine Rice</td>\n",
       "      <td>0.84</td>\n",
       "      <td>35200264013</td>\n",
       "      <td>35200264013</td>\n",
       "      <td>12125 Alamo Ranch Pkwy</td>\n",
       "      <td>San Antonio</td>\n",
       "      <td>1</td>\n",
       "      <td>TX</td>\n",
       "      <td>78253</td>\n",
       "    </tr>\n",
       "    <tr>\n",
       "      <th>3</th>\n",
       "      <td>1</td>\n",
       "      <td>13.0</td>\n",
       "      <td>Fri, 04 Jan 2013 00:00:00 GMT</td>\n",
       "      <td>4</td>\n",
       "      <td>1</td>\n",
       "      <td>Riceland</td>\n",
       "      <td>1</td>\n",
       "      <td>Riceland American Jazmine Rice</td>\n",
       "      <td>0.84</td>\n",
       "      <td>35200264013</td>\n",
       "      <td>35200264013</td>\n",
       "      <td>12125 Alamo Ranch Pkwy</td>\n",
       "      <td>San Antonio</td>\n",
       "      <td>1</td>\n",
       "      <td>TX</td>\n",
       "      <td>78253</td>\n",
       "    </tr>\n",
       "    <tr>\n",
       "      <th>4</th>\n",
       "      <td>1</td>\n",
       "      <td>10.0</td>\n",
       "      <td>Sat, 05 Jan 2013 00:00:00 GMT</td>\n",
       "      <td>5</td>\n",
       "      <td>1</td>\n",
       "      <td>Riceland</td>\n",
       "      <td>1</td>\n",
       "      <td>Riceland American Jazmine Rice</td>\n",
       "      <td>0.84</td>\n",
       "      <td>35200264013</td>\n",
       "      <td>35200264013</td>\n",
       "      <td>12125 Alamo Ranch Pkwy</td>\n",
       "      <td>San Antonio</td>\n",
       "      <td>1</td>\n",
       "      <td>TX</td>\n",
       "      <td>78253</td>\n",
       "    </tr>\n",
       "  </tbody>\n",
       "</table>\n",
       "</div>"
      ],
      "text/plain": [
       "   item  sale_amount                      sale_date  sale_id  store  \\\n",
       "0     1         13.0  Tue, 01 Jan 2013 00:00:00 GMT        1      1   \n",
       "1     1         11.0  Wed, 02 Jan 2013 00:00:00 GMT        2      1   \n",
       "2     1         14.0  Thu, 03 Jan 2013 00:00:00 GMT        3      1   \n",
       "3     1         13.0  Fri, 04 Jan 2013 00:00:00 GMT        4      1   \n",
       "4     1         10.0  Sat, 05 Jan 2013 00:00:00 GMT        5      1   \n",
       "\n",
       "  item_brand  item_id                       item_name  item_price  \\\n",
       "0   Riceland        1  Riceland American Jazmine Rice        0.84   \n",
       "1   Riceland        1  Riceland American Jazmine Rice        0.84   \n",
       "2   Riceland        1  Riceland American Jazmine Rice        0.84   \n",
       "3   Riceland        1  Riceland American Jazmine Rice        0.84   \n",
       "4   Riceland        1  Riceland American Jazmine Rice        0.84   \n",
       "\n",
       "    item_upc12   item_upc14           store_address   store_city  store_id  \\\n",
       "0  35200264013  35200264013  12125 Alamo Ranch Pkwy  San Antonio         1   \n",
       "1  35200264013  35200264013  12125 Alamo Ranch Pkwy  San Antonio         1   \n",
       "2  35200264013  35200264013  12125 Alamo Ranch Pkwy  San Antonio         1   \n",
       "3  35200264013  35200264013  12125 Alamo Ranch Pkwy  San Antonio         1   \n",
       "4  35200264013  35200264013  12125 Alamo Ranch Pkwy  San Antonio         1   \n",
       "\n",
       "  store_state store_zipcode  \n",
       "0          TX         78253  \n",
       "1          TX         78253  \n",
       "2          TX         78253  \n",
       "3          TX         78253  \n",
       "4          TX         78253  "
      ]
     },
     "execution_count": 40,
     "metadata": {},
     "output_type": "execute_result"
    }
   ],
   "source": [
    "# checking the dataframe\n",
    "\n",
    "merged_sales.head()"
   ]
  },
  {
   "cell_type": "code",
   "execution_count": 41,
   "metadata": {},
   "outputs": [
    {
     "data": {
      "text/html": [
       "<div>\n",
       "<style scoped>\n",
       "    .dataframe tbody tr th:only-of-type {\n",
       "        vertical-align: middle;\n",
       "    }\n",
       "\n",
       "    .dataframe tbody tr th {\n",
       "        vertical-align: top;\n",
       "    }\n",
       "\n",
       "    .dataframe thead th {\n",
       "        text-align: right;\n",
       "    }\n",
       "</style>\n",
       "<table border=\"1\" class=\"dataframe\">\n",
       "  <thead>\n",
       "    <tr style=\"text-align: right;\">\n",
       "      <th></th>\n",
       "      <th>item</th>\n",
       "      <th>sale_amount</th>\n",
       "      <th>sale_date</th>\n",
       "      <th>store</th>\n",
       "      <th>item_brand</th>\n",
       "      <th>item_name</th>\n",
       "      <th>item_price</th>\n",
       "      <th>item_upc12</th>\n",
       "      <th>item_upc14</th>\n",
       "      <th>store_address</th>\n",
       "      <th>store_city</th>\n",
       "      <th>store_state</th>\n",
       "      <th>store_zipcode</th>\n",
       "    </tr>\n",
       "  </thead>\n",
       "  <tbody>\n",
       "    <tr>\n",
       "      <th>0</th>\n",
       "      <td>1</td>\n",
       "      <td>13.0</td>\n",
       "      <td>Tue, 01 Jan 2013 00:00:00 GMT</td>\n",
       "      <td>1</td>\n",
       "      <td>Riceland</td>\n",
       "      <td>Riceland American Jazmine Rice</td>\n",
       "      <td>0.84</td>\n",
       "      <td>35200264013</td>\n",
       "      <td>35200264013</td>\n",
       "      <td>12125 Alamo Ranch Pkwy</td>\n",
       "      <td>San Antonio</td>\n",
       "      <td>TX</td>\n",
       "      <td>78253</td>\n",
       "    </tr>\n",
       "    <tr>\n",
       "      <th>1</th>\n",
       "      <td>1</td>\n",
       "      <td>11.0</td>\n",
       "      <td>Wed, 02 Jan 2013 00:00:00 GMT</td>\n",
       "      <td>1</td>\n",
       "      <td>Riceland</td>\n",
       "      <td>Riceland American Jazmine Rice</td>\n",
       "      <td>0.84</td>\n",
       "      <td>35200264013</td>\n",
       "      <td>35200264013</td>\n",
       "      <td>12125 Alamo Ranch Pkwy</td>\n",
       "      <td>San Antonio</td>\n",
       "      <td>TX</td>\n",
       "      <td>78253</td>\n",
       "    </tr>\n",
       "    <tr>\n",
       "      <th>2</th>\n",
       "      <td>1</td>\n",
       "      <td>14.0</td>\n",
       "      <td>Thu, 03 Jan 2013 00:00:00 GMT</td>\n",
       "      <td>1</td>\n",
       "      <td>Riceland</td>\n",
       "      <td>Riceland American Jazmine Rice</td>\n",
       "      <td>0.84</td>\n",
       "      <td>35200264013</td>\n",
       "      <td>35200264013</td>\n",
       "      <td>12125 Alamo Ranch Pkwy</td>\n",
       "      <td>San Antonio</td>\n",
       "      <td>TX</td>\n",
       "      <td>78253</td>\n",
       "    </tr>\n",
       "    <tr>\n",
       "      <th>3</th>\n",
       "      <td>1</td>\n",
       "      <td>13.0</td>\n",
       "      <td>Fri, 04 Jan 2013 00:00:00 GMT</td>\n",
       "      <td>1</td>\n",
       "      <td>Riceland</td>\n",
       "      <td>Riceland American Jazmine Rice</td>\n",
       "      <td>0.84</td>\n",
       "      <td>35200264013</td>\n",
       "      <td>35200264013</td>\n",
       "      <td>12125 Alamo Ranch Pkwy</td>\n",
       "      <td>San Antonio</td>\n",
       "      <td>TX</td>\n",
       "      <td>78253</td>\n",
       "    </tr>\n",
       "    <tr>\n",
       "      <th>4</th>\n",
       "      <td>1</td>\n",
       "      <td>10.0</td>\n",
       "      <td>Sat, 05 Jan 2013 00:00:00 GMT</td>\n",
       "      <td>1</td>\n",
       "      <td>Riceland</td>\n",
       "      <td>Riceland American Jazmine Rice</td>\n",
       "      <td>0.84</td>\n",
       "      <td>35200264013</td>\n",
       "      <td>35200264013</td>\n",
       "      <td>12125 Alamo Ranch Pkwy</td>\n",
       "      <td>San Antonio</td>\n",
       "      <td>TX</td>\n",
       "      <td>78253</td>\n",
       "    </tr>\n",
       "  </tbody>\n",
       "</table>\n",
       "</div>"
      ],
      "text/plain": [
       "   item  sale_amount                      sale_date  store item_brand  \\\n",
       "0     1         13.0  Tue, 01 Jan 2013 00:00:00 GMT      1   Riceland   \n",
       "1     1         11.0  Wed, 02 Jan 2013 00:00:00 GMT      1   Riceland   \n",
       "2     1         14.0  Thu, 03 Jan 2013 00:00:00 GMT      1   Riceland   \n",
       "3     1         13.0  Fri, 04 Jan 2013 00:00:00 GMT      1   Riceland   \n",
       "4     1         10.0  Sat, 05 Jan 2013 00:00:00 GMT      1   Riceland   \n",
       "\n",
       "                        item_name  item_price   item_upc12   item_upc14  \\\n",
       "0  Riceland American Jazmine Rice        0.84  35200264013  35200264013   \n",
       "1  Riceland American Jazmine Rice        0.84  35200264013  35200264013   \n",
       "2  Riceland American Jazmine Rice        0.84  35200264013  35200264013   \n",
       "3  Riceland American Jazmine Rice        0.84  35200264013  35200264013   \n",
       "4  Riceland American Jazmine Rice        0.84  35200264013  35200264013   \n",
       "\n",
       "            store_address   store_city store_state store_zipcode  \n",
       "0  12125 Alamo Ranch Pkwy  San Antonio          TX         78253  \n",
       "1  12125 Alamo Ranch Pkwy  San Antonio          TX         78253  \n",
       "2  12125 Alamo Ranch Pkwy  San Antonio          TX         78253  \n",
       "3  12125 Alamo Ranch Pkwy  San Antonio          TX         78253  \n",
       "4  12125 Alamo Ranch Pkwy  San Antonio          TX         78253  "
      ]
     },
     "execution_count": 41,
     "metadata": {},
     "output_type": "execute_result"
    }
   ],
   "source": [
    "# removing redundant columns\n",
    "\n",
    "merged_sales = merged_sales.drop(\n",
    "    columns = [\"sale_id\", \"item_id\", \"store_id\"]\n",
    ")\n",
    "\n",
    "merged_sales.head()"
   ]
  },
  {
   "cell_type": "code",
   "execution_count": 42,
   "metadata": {},
   "outputs": [],
   "source": [
    "# saving the df\n",
    "\n",
    "merged_sales.to_csv(\"/Users/mijailmariano/codeup-data-science/time-series-exercises/merged_sales.csv\", index = False) # completed!"
   ]
  },
  {
   "cell_type": "markdown",
   "metadata": {},
   "source": [
    "----\n",
    "**``Exercise Number 6: Acquire the Open Power Systems Data for Germany, which has been rapidly expanding its renewable energy production in recent years. The data set includes country-wide totals of electricity consumption, wind power production, and solar power production for 2006-2017. You can get the data here: https://raw.githubusercontent.com/jenfly/opsd/master/opsd_germany_daily.csv``**"
   ]
  },
  {
   "cell_type": "code",
   "execution_count": 49,
   "metadata": {},
   "outputs": [
    {
     "data": {
      "text/html": [
       "<div>\n",
       "<style scoped>\n",
       "    .dataframe tbody tr th:only-of-type {\n",
       "        vertical-align: middle;\n",
       "    }\n",
       "\n",
       "    .dataframe tbody tr th {\n",
       "        vertical-align: top;\n",
       "    }\n",
       "\n",
       "    .dataframe thead th {\n",
       "        text-align: right;\n",
       "    }\n",
       "</style>\n",
       "<table border=\"1\" class=\"dataframe\">\n",
       "  <thead>\n",
       "    <tr style=\"text-align: right;\">\n",
       "      <th></th>\n",
       "      <th>Date</th>\n",
       "      <th>Consumption</th>\n",
       "      <th>Wind</th>\n",
       "      <th>Solar</th>\n",
       "      <th>Wind+Solar</th>\n",
       "    </tr>\n",
       "  </thead>\n",
       "  <tbody>\n",
       "    <tr>\n",
       "      <th>0</th>\n",
       "      <td>2006-01-01</td>\n",
       "      <td>1069.18400</td>\n",
       "      <td>NaN</td>\n",
       "      <td>NaN</td>\n",
       "      <td>NaN</td>\n",
       "    </tr>\n",
       "    <tr>\n",
       "      <th>1</th>\n",
       "      <td>2006-01-02</td>\n",
       "      <td>1380.52100</td>\n",
       "      <td>NaN</td>\n",
       "      <td>NaN</td>\n",
       "      <td>NaN</td>\n",
       "    </tr>\n",
       "    <tr>\n",
       "      <th>2</th>\n",
       "      <td>2006-01-03</td>\n",
       "      <td>1442.53300</td>\n",
       "      <td>NaN</td>\n",
       "      <td>NaN</td>\n",
       "      <td>NaN</td>\n",
       "    </tr>\n",
       "    <tr>\n",
       "      <th>3</th>\n",
       "      <td>2006-01-04</td>\n",
       "      <td>1457.21700</td>\n",
       "      <td>NaN</td>\n",
       "      <td>NaN</td>\n",
       "      <td>NaN</td>\n",
       "    </tr>\n",
       "    <tr>\n",
       "      <th>4</th>\n",
       "      <td>2006-01-05</td>\n",
       "      <td>1477.13100</td>\n",
       "      <td>NaN</td>\n",
       "      <td>NaN</td>\n",
       "      <td>NaN</td>\n",
       "    </tr>\n",
       "    <tr>\n",
       "      <th>...</th>\n",
       "      <td>...</td>\n",
       "      <td>...</td>\n",
       "      <td>...</td>\n",
       "      <td>...</td>\n",
       "      <td>...</td>\n",
       "    </tr>\n",
       "    <tr>\n",
       "      <th>4378</th>\n",
       "      <td>2017-12-27</td>\n",
       "      <td>1263.94091</td>\n",
       "      <td>394.507</td>\n",
       "      <td>16.530</td>\n",
       "      <td>411.037</td>\n",
       "    </tr>\n",
       "    <tr>\n",
       "      <th>4379</th>\n",
       "      <td>2017-12-28</td>\n",
       "      <td>1299.86398</td>\n",
       "      <td>506.424</td>\n",
       "      <td>14.162</td>\n",
       "      <td>520.586</td>\n",
       "    </tr>\n",
       "    <tr>\n",
       "      <th>4380</th>\n",
       "      <td>2017-12-29</td>\n",
       "      <td>1295.08753</td>\n",
       "      <td>584.277</td>\n",
       "      <td>29.854</td>\n",
       "      <td>614.131</td>\n",
       "    </tr>\n",
       "    <tr>\n",
       "      <th>4381</th>\n",
       "      <td>2017-12-30</td>\n",
       "      <td>1215.44897</td>\n",
       "      <td>721.247</td>\n",
       "      <td>7.467</td>\n",
       "      <td>728.714</td>\n",
       "    </tr>\n",
       "    <tr>\n",
       "      <th>4382</th>\n",
       "      <td>2017-12-31</td>\n",
       "      <td>1107.11488</td>\n",
       "      <td>721.176</td>\n",
       "      <td>19.980</td>\n",
       "      <td>741.156</td>\n",
       "    </tr>\n",
       "  </tbody>\n",
       "</table>\n",
       "<p>4383 rows × 5 columns</p>\n",
       "</div>"
      ],
      "text/plain": [
       "            Date  Consumption     Wind   Solar  Wind+Solar\n",
       "0     2006-01-01   1069.18400      NaN     NaN         NaN\n",
       "1     2006-01-02   1380.52100      NaN     NaN         NaN\n",
       "2     2006-01-03   1442.53300      NaN     NaN         NaN\n",
       "3     2006-01-04   1457.21700      NaN     NaN         NaN\n",
       "4     2006-01-05   1477.13100      NaN     NaN         NaN\n",
       "...          ...          ...      ...     ...         ...\n",
       "4378  2017-12-27   1263.94091  394.507  16.530     411.037\n",
       "4379  2017-12-28   1299.86398  506.424  14.162     520.586\n",
       "4380  2017-12-29   1295.08753  584.277  29.854     614.131\n",
       "4381  2017-12-30   1215.44897  721.247   7.467     728.714\n",
       "4382  2017-12-31   1107.11488  721.176  19.980     741.156\n",
       "\n",
       "[4383 rows x 5 columns]"
      ]
     },
     "execution_count": 49,
     "metadata": {},
     "output_type": "execute_result"
    }
   ],
   "source": [
    "# getting data from url and saving to a csv\n",
    "\n",
    "german_energy = pd.read_csv('https://raw.githubusercontent.com/jenfly/opsd/master/opsd_germany_daily.csv')\n",
    "german_energy # checks out!"
   ]
  },
  {
   "cell_type": "code",
   "execution_count": 50,
   "metadata": {},
   "outputs": [],
   "source": [
    "# saving the df to a csv\n",
    "\n",
    "german_energy.to_csv(\"german_energy.csv\") # complete!"
   ]
  },
  {
   "cell_type": "markdown",
   "metadata": {},
   "source": [
    "----\n",
    "**``Exercise Number 7: Make sure all the work that you have done above is reproducible. That is, you should put the code above into separate functions in the acquire.py file and be able to re-run the functions and get the same data.``**"
   ]
  },
  {
   "cell_type": "code",
   "execution_count": 45,
   "metadata": {},
   "outputs": [],
   "source": [
    "# creating a function that connects to api and returns the data/dataframe\n",
    "\n",
    "def get_items():\n",
    "\n",
    "    # breaking down initial steps for process learning purposes\n",
    "\n",
    "    url = 'https://python.zgulde.net/api/v1/items'\n",
    "    items = []\n",
    "\n",
    "    # loop will iterate for the total number of api pages = 3 or 3 times\n",
    "    for info in range(pages):\n",
    "\n",
    "        # create the response object using the first url\n",
    "        response = requests.get(url)\n",
    "\n",
    "        # convert the response object to a json object\n",
    "        data = response.json()\n",
    "        \n",
    "        # add first contents to the items list\n",
    "        items.extend(data['payload']['items'])\n",
    "        \n",
    "        # check next api page, if 'none' break out of loop\n",
    "        if data['payload']['next_page'] == None:\n",
    "            items = pd.DataFrame(items)\n",
    "            break\n",
    "        \n",
    "        # anything other than 'none', update the url with the next endpoint and continue loop until no more pages left\n",
    "        else:\n",
    "            url = 'https://python.zgulde.net' + data['payload']['next_page']\n",
    "\n",
    "\n",
    "    # creating and returning the items dataframe\n",
    "\n",
    "    return items"
   ]
  },
  {
   "cell_type": "code",
   "execution_count": 46,
   "metadata": {},
   "outputs": [
    {
     "data": {
      "text/html": [
       "<div>\n",
       "<style scoped>\n",
       "    .dataframe tbody tr th:only-of-type {\n",
       "        vertical-align: middle;\n",
       "    }\n",
       "\n",
       "    .dataframe tbody tr th {\n",
       "        vertical-align: top;\n",
       "    }\n",
       "\n",
       "    .dataframe thead th {\n",
       "        text-align: right;\n",
       "    }\n",
       "</style>\n",
       "<table border=\"1\" class=\"dataframe\">\n",
       "  <thead>\n",
       "    <tr style=\"text-align: right;\">\n",
       "      <th></th>\n",
       "      <th>item_brand</th>\n",
       "      <th>item_id</th>\n",
       "      <th>item_name</th>\n",
       "      <th>item_price</th>\n",
       "      <th>item_upc12</th>\n",
       "      <th>item_upc14</th>\n",
       "    </tr>\n",
       "  </thead>\n",
       "  <tbody>\n",
       "    <tr>\n",
       "      <th>0</th>\n",
       "      <td>Riceland</td>\n",
       "      <td>1</td>\n",
       "      <td>Riceland American Jazmine Rice</td>\n",
       "      <td>0.84</td>\n",
       "      <td>35200264013</td>\n",
       "      <td>35200264013</td>\n",
       "    </tr>\n",
       "    <tr>\n",
       "      <th>1</th>\n",
       "      <td>Caress</td>\n",
       "      <td>2</td>\n",
       "      <td>Caress Velvet Bliss Ultra Silkening Beauty Bar...</td>\n",
       "      <td>6.44</td>\n",
       "      <td>11111065925</td>\n",
       "      <td>11111065925</td>\n",
       "    </tr>\n",
       "    <tr>\n",
       "      <th>2</th>\n",
       "      <td>Earths Best</td>\n",
       "      <td>3</td>\n",
       "      <td>Earths Best Organic Fruit Yogurt Smoothie Mixe...</td>\n",
       "      <td>2.43</td>\n",
       "      <td>23923330139</td>\n",
       "      <td>23923330139</td>\n",
       "    </tr>\n",
       "    <tr>\n",
       "      <th>3</th>\n",
       "      <td>Boars Head</td>\n",
       "      <td>4</td>\n",
       "      <td>Boars Head Sliced White American Cheese - 120 Ct</td>\n",
       "      <td>3.14</td>\n",
       "      <td>208528800007</td>\n",
       "      <td>208528800007</td>\n",
       "    </tr>\n",
       "    <tr>\n",
       "      <th>4</th>\n",
       "      <td>Back To Nature</td>\n",
       "      <td>5</td>\n",
       "      <td>Back To Nature Gluten Free White Cheddar Rice ...</td>\n",
       "      <td>2.61</td>\n",
       "      <td>759283100036</td>\n",
       "      <td>759283100036</td>\n",
       "    </tr>\n",
       "  </tbody>\n",
       "</table>\n",
       "</div>"
      ],
      "text/plain": [
       "       item_brand  item_id                                          item_name  \\\n",
       "0        Riceland        1                     Riceland American Jazmine Rice   \n",
       "1          Caress        2  Caress Velvet Bliss Ultra Silkening Beauty Bar...   \n",
       "2     Earths Best        3  Earths Best Organic Fruit Yogurt Smoothie Mixe...   \n",
       "3      Boars Head        4   Boars Head Sliced White American Cheese - 120 Ct   \n",
       "4  Back To Nature        5  Back To Nature Gluten Free White Cheddar Rice ...   \n",
       "\n",
       "   item_price    item_upc12    item_upc14  \n",
       "0        0.84   35200264013   35200264013  \n",
       "1        6.44   11111065925   11111065925  \n",
       "2        2.43   23923330139   23923330139  \n",
       "3        3.14  208528800007  208528800007  \n",
       "4        2.61  759283100036  759283100036  "
      ]
     },
     "execution_count": 46,
     "metadata": {},
     "output_type": "execute_result"
    }
   ],
   "source": [
    "# checking to make sure function works\n",
    "\n",
    "test = get_items()\n",
    "\n",
    "test.head() #checks out! / can also make this function with a 'while loop'"
   ]
  }
 ],
 "metadata": {
  "kernelspec": {
   "display_name": "Python 3.9.12 ('base')",
   "language": "python",
   "name": "python3"
  },
  "language_info": {
   "codemirror_mode": {
    "name": "ipython",
    "version": 3
   },
   "file_extension": ".py",
   "mimetype": "text/x-python",
   "name": "python",
   "nbconvert_exporter": "python",
   "pygments_lexer": "ipython3",
   "version": "3.9.12"
  },
  "orig_nbformat": 4,
  "vscode": {
   "interpreter": {
    "hash": "40d3a090f54c6569ab1632332b64b2c03c39dcf918b08424e98f38b5ae0af88f"
   }
  }
 },
 "nbformat": 4,
 "nbformat_minor": 2
}
